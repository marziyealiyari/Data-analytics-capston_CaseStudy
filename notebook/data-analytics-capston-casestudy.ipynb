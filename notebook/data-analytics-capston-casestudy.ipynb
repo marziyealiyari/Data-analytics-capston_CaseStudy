{
 "cells": [
  {
   "cell_type": "markdown",
   "id": "09b2c38f",
   "metadata": {
    "papermill": {
     "duration": 0.00338,
     "end_time": "2025-06-29T20:25:27.606159",
     "exception": false,
     "start_time": "2025-06-29T20:25:27.602779",
     "status": "completed"
    },
    "tags": []
   },
   "source": [
    "**About the company**\n",
    "\n",
    "Founded in 2014, Bellabeat is the company that developed one of the first wearables specifically designed for women and has since gone on to create a portfolio of digital products for tracking and improving the health of women.\n",
    "\n",
    "Focusing on creating innovative health and wellness products for women, our mission is to empower women to take control of their health by providing them with technology-driven solutions that blend design and function.\n",
    "\n",
    "**Characters and products**\n",
    "\n",
    "\n",
    "● Characters\n",
    "\n",
    "○ Urška Sršen: Bellabeat’s cofounder and Chief Creative O\u0000cer\n",
    "\n",
    "○ Sando Mur: Mathematician and Bellabeat’s cofounder; key member of the Bellabeat executive team\n",
    "○ Bellabeat marketing analytics team: A team of data analysts responsible for collecting, analyzing, and repo\u0000ing\n",
    "data that helps guide Bellabeat’s marketing strategy. Y ou joined this team six months ago and have been busy\n",
    "learning about Bellabeat’’s mission and business goals — as well as how you, as a junior data analyst, can help\n",
    "Bellabeat achieve them.\n",
    "\n",
    "● Products\n",
    "\n",
    "○ Bellabeat app: The Bellabeat app provides users with health data related to their activity, sleep, stress,\n",
    "menstrual cycle, and mindfulness habits. This data can help users be\u0000er understand their current habits and\n",
    "make healthy decisions. The Bellabeat app connects to their line of sma\u0000 wellness products.\n",
    "\n",
    "○ Leaf: Bellabeat’s classic wellness tracker can be worn as a bracelet, necklace, or clip. The Leaf tracker connects\n",
    "to the Bellabeat app to track activity, sleep, and stress.\n",
    "○ Time: This wellness watch combines the timeless look of a classic timepiece with sma\u0000 technology to track user\n",
    "activity, sleep, and stress. The Time watch connects to the Bellabeat app to provide you with insights into your\n",
    "daily wellness.\n",
    "\n",
    "○ Spring: This is a water bo\u0000le that tracks daily water intake using sma\u0000 technology to ensure that you are\n",
    "appropriately hydrated throughout the day. The Spring bo\u0000le connects to the Bellabeat app to track your\n",
    "hydration levels.\n",
    "\n",
    "○ Bellabeat membership: Bellabeat also o\u0000ers a subscription-based membership program for users.\n",
    "Membership gives users 24/7 access to fully personalized guidance on nutrition, activity, sleep, health and\n",
    "beauty, and mindfulness based on their lifestyle and goals."
   ]
  },
  {
   "cell_type": "markdown",
   "id": "59005be6",
   "metadata": {
    "papermill": {
     "duration": 0.002513,
     "end_time": "2025-06-29T20:25:27.611372",
     "exception": false,
     "start_time": "2025-06-29T20:25:27.608859",
     "status": "completed"
    },
    "tags": []
   },
   "source": [
    "**Ask Phase**\n",
    "\n",
    "Sršen asks you to analyze sma\u0000 device usage data in order to gain insight into how consumers use non-Bellabeat sma\u0000\n",
    "devices. She then wants you to select one Bellabeat product to apply these insights to in your presentation. These questions\n",
    "will guide your analysis:\n",
    "1. What are some trends in sma\u0000 device usage?\n",
    "2. How could these trends apply to Bellabeat customers?\n",
    "3. How could these trends help in\u0000uence Bellabeat marketing strategy?\n",
    "Y ou will produce a repo\u0000 with the following deliverables:\n",
    "1. A clear summary of the business task\n",
    "2. A description of all data sources used\n",
    "3. Documentation of any cleaning or manipulation of data\n",
    "4. A summary of your analysis\n",
    "5. Suppo\u0000ing visualizations and key \u0000ndings\n",
    "6. Your top high-level content recommendations based on your analysis\n",
    "Use the following Case Study Roadmap as a guide. Note: Completing this case study within a week is a good goal.\n"
   ]
  },
  {
   "cell_type": "markdown",
   "id": "29041c54",
   "metadata": {
    "papermill": {
     "duration": 0.002441,
     "end_time": "2025-06-29T20:25:27.616299",
     "exception": false,
     "start_time": "2025-06-29T20:25:27.613858",
     "status": "completed"
    },
    "tags": []
   },
   "source": [
    "**Prepare Phase**"
   ]
  },
  {
   "cell_type": "code",
   "execution_count": 1,
   "id": "4d1c0185",
   "metadata": {
    "execution": {
     "iopub.execute_input": "2025-06-29T20:25:27.625457Z",
     "iopub.status.busy": "2025-06-29T20:25:27.623296Z",
     "iopub.status.idle": "2025-06-29T20:25:29.631877Z",
     "shell.execute_reply": "2025-06-29T20:25:29.629622Z"
    },
    "papermill": {
     "duration": 2.016399,
     "end_time": "2025-06-29T20:25:29.635130",
     "exception": false,
     "start_time": "2025-06-29T20:25:27.618731",
     "status": "completed"
    },
    "tags": []
   },
   "outputs": [
    {
     "name": "stderr",
     "output_type": "stream",
     "text": [
      "── \u001b[1mAttaching core tidyverse packages\u001b[22m ──────────────────────── tidyverse 2.0.0 ──\n",
      "\u001b[32m✔\u001b[39m \u001b[34mdplyr    \u001b[39m 1.1.4     \u001b[32m✔\u001b[39m \u001b[34mreadr    \u001b[39m 2.1.5\n",
      "\u001b[32m✔\u001b[39m \u001b[34mforcats  \u001b[39m 1.0.0     \u001b[32m✔\u001b[39m \u001b[34mstringr  \u001b[39m 1.5.1\n",
      "\u001b[32m✔\u001b[39m \u001b[34mggplot2  \u001b[39m 3.5.1     \u001b[32m✔\u001b[39m \u001b[34mtibble   \u001b[39m 3.2.1\n",
      "\u001b[32m✔\u001b[39m \u001b[34mlubridate\u001b[39m 1.9.3     \u001b[32m✔\u001b[39m \u001b[34mtidyr    \u001b[39m 1.3.1\n",
      "\u001b[32m✔\u001b[39m \u001b[34mpurrr    \u001b[39m 1.0.2     \n"
     ]
    },
    {
     "name": "stderr",
     "output_type": "stream",
     "text": [
      "── \u001b[1mConflicts\u001b[22m ────────────────────────────────────────── tidyverse_conflicts() ──\n",
      "\u001b[31m✖\u001b[39m \u001b[34mdplyr\u001b[39m::\u001b[32mfilter()\u001b[39m masks \u001b[34mstats\u001b[39m::filter()\n",
      "\u001b[31m✖\u001b[39m \u001b[34mdplyr\u001b[39m::\u001b[32mlag()\u001b[39m    masks \u001b[34mstats\u001b[39m::lag()\n",
      "\u001b[36mℹ\u001b[39m Use the conflicted package (\u001b[3m\u001b[34m<http://conflicted.r-lib.org/>\u001b[39m\u001b[23m) to force all conflicts to become errors\n"
     ]
    },
    {
     "name": "stderr",
     "output_type": "stream",
     "text": [
      "here() starts at /kaggle/working\n",
      "\n"
     ]
    },
    {
     "name": "stderr",
     "output_type": "stream",
     "text": [
      "\n",
      "Attaching package: ‘janitor’\n",
      "\n",
      "\n"
     ]
    },
    {
     "name": "stderr",
     "output_type": "stream",
     "text": [
      "The following objects are masked from ‘package:stats’:\n",
      "\n",
      "    chisq.test, fisher.test\n",
      "\n",
      "\n"
     ]
    },
    {
     "name": "stdout",
     "output_type": "stream",
     "text": [
      "Rows: 940\n",
      "Columns: 15\n",
      "$ Id                       \u001b[3m\u001b[90m<dbl>\u001b[39m\u001b[23m 1503960366, 1503960366, 1503960366, 150396036…\n",
      "$ ActivityDate             \u001b[3m\u001b[90m<chr>\u001b[39m\u001b[23m \"4/12/2016\", \"4/13/2016\", \"4/14/2016\", \"4/15/…\n",
      "$ TotalSteps               \u001b[3m\u001b[90m<int>\u001b[39m\u001b[23m 13162, 10735, 10460, 9762, 12669, 9705, 13019…\n",
      "$ TotalDistance            \u001b[3m\u001b[90m<dbl>\u001b[39m\u001b[23m 8.50, 6.97, 6.74, 6.28, 8.16, 6.48, 8.59, 9.8…\n",
      "$ TrackerDistance          \u001b[3m\u001b[90m<dbl>\u001b[39m\u001b[23m 8.50, 6.97, 6.74, 6.28, 8.16, 6.48, 8.59, 9.8…\n",
      "$ LoggedActivitiesDistance \u001b[3m\u001b[90m<dbl>\u001b[39m\u001b[23m 0, 0, 0, 0, 0, 0, 0, 0, 0, 0, 0, 0, 0, 0, 0, …\n",
      "$ VeryActiveDistance       \u001b[3m\u001b[90m<dbl>\u001b[39m\u001b[23m 1.88, 1.57, 2.44, 2.14, 2.71, 3.19, 3.25, 3.5…\n",
      "$ ModeratelyActiveDistance \u001b[3m\u001b[90m<dbl>\u001b[39m\u001b[23m 0.55, 0.69, 0.40, 1.26, 0.41, 0.78, 0.64, 1.3…\n",
      "$ LightActiveDistance      \u001b[3m\u001b[90m<dbl>\u001b[39m\u001b[23m 6.06, 4.71, 3.91, 2.83, 5.04, 2.51, 4.71, 5.0…\n",
      "$ SedentaryActiveDistance  \u001b[3m\u001b[90m<dbl>\u001b[39m\u001b[23m 0, 0, 0, 0, 0, 0, 0, 0, 0, 0, 0, 0, 0, 0, 0, …\n",
      "$ VeryActiveMinutes        \u001b[3m\u001b[90m<int>\u001b[39m\u001b[23m 25, 21, 30, 29, 36, 38, 42, 50, 28, 19, 66, 4…\n",
      "$ FairlyActiveMinutes      \u001b[3m\u001b[90m<int>\u001b[39m\u001b[23m 13, 19, 11, 34, 10, 20, 16, 31, 12, 8, 27, 21…\n",
      "$ LightlyActiveMinutes     \u001b[3m\u001b[90m<int>\u001b[39m\u001b[23m 328, 217, 181, 209, 221, 164, 233, 264, 205, …\n",
      "$ SedentaryMinutes         \u001b[3m\u001b[90m<int>\u001b[39m\u001b[23m 728, 776, 1218, 726, 773, 539, 1149, 775, 818…\n",
      "$ Calories                 \u001b[3m\u001b[90m<int>\u001b[39m\u001b[23m 1985, 1797, 1776, 1745, 1863, 1728, 1921, 203…\n"
     ]
    },
    {
     "name": "stdout",
     "output_type": "stream",
     "text": [
      "Rows: 413\n",
      "Columns: 5\n",
      "$ Id                 \u001b[3m\u001b[90m<dbl>\u001b[39m\u001b[23m 1503960366, 1503960366, 1503960366, 1503960366, 150…\n",
      "$ SleepDay           \u001b[3m\u001b[90m<chr>\u001b[39m\u001b[23m \"4/12/2016 12:00:00 AM\", \"4/13/2016 12:00:00 AM\", \"…\n",
      "$ TotalSleepRecords  \u001b[3m\u001b[90m<int>\u001b[39m\u001b[23m 1, 2, 1, 2, 1, 1, 1, 1, 1, 1, 1, 1, 1, 1, 1, 1, 1, …\n",
      "$ TotalMinutesAsleep \u001b[3m\u001b[90m<int>\u001b[39m\u001b[23m 327, 384, 412, 340, 700, 304, 360, 325, 361, 430, 2…\n",
      "$ TotalTimeInBed     \u001b[3m\u001b[90m<int>\u001b[39m\u001b[23m 346, 407, 442, 367, 712, 320, 377, 364, 384, 449, 3…\n"
     ]
    },
    {
     "data": {
      "text/html": [
       "<table class=\"dataframe\">\n",
       "<caption>A data.frame: 6 × 15</caption>\n",
       "<thead>\n",
       "\t<tr><th></th><th scope=col>Id</th><th scope=col>ActivityDate</th><th scope=col>TotalSteps</th><th scope=col>TotalDistance</th><th scope=col>TrackerDistance</th><th scope=col>LoggedActivitiesDistance</th><th scope=col>VeryActiveDistance</th><th scope=col>ModeratelyActiveDistance</th><th scope=col>LightActiveDistance</th><th scope=col>SedentaryActiveDistance</th><th scope=col>VeryActiveMinutes</th><th scope=col>FairlyActiveMinutes</th><th scope=col>LightlyActiveMinutes</th><th scope=col>SedentaryMinutes</th><th scope=col>Calories</th></tr>\n",
       "\t<tr><th></th><th scope=col>&lt;dbl&gt;</th><th scope=col>&lt;chr&gt;</th><th scope=col>&lt;int&gt;</th><th scope=col>&lt;dbl&gt;</th><th scope=col>&lt;dbl&gt;</th><th scope=col>&lt;dbl&gt;</th><th scope=col>&lt;dbl&gt;</th><th scope=col>&lt;dbl&gt;</th><th scope=col>&lt;dbl&gt;</th><th scope=col>&lt;dbl&gt;</th><th scope=col>&lt;int&gt;</th><th scope=col>&lt;int&gt;</th><th scope=col>&lt;int&gt;</th><th scope=col>&lt;int&gt;</th><th scope=col>&lt;int&gt;</th></tr>\n",
       "</thead>\n",
       "<tbody>\n",
       "\t<tr><th scope=row>1</th><td>1503960366</td><td>4/12/2016</td><td>13162</td><td>8.50</td><td>8.50</td><td>0</td><td>1.88</td><td>0.55</td><td>6.06</td><td>0</td><td>25</td><td>13</td><td>328</td><td> 728</td><td>1985</td></tr>\n",
       "\t<tr><th scope=row>2</th><td>1503960366</td><td>4/13/2016</td><td>10735</td><td>6.97</td><td>6.97</td><td>0</td><td>1.57</td><td>0.69</td><td>4.71</td><td>0</td><td>21</td><td>19</td><td>217</td><td> 776</td><td>1797</td></tr>\n",
       "\t<tr><th scope=row>3</th><td>1503960366</td><td>4/14/2016</td><td>10460</td><td>6.74</td><td>6.74</td><td>0</td><td>2.44</td><td>0.40</td><td>3.91</td><td>0</td><td>30</td><td>11</td><td>181</td><td>1218</td><td>1776</td></tr>\n",
       "\t<tr><th scope=row>4</th><td>1503960366</td><td>4/15/2016</td><td> 9762</td><td>6.28</td><td>6.28</td><td>0</td><td>2.14</td><td>1.26</td><td>2.83</td><td>0</td><td>29</td><td>34</td><td>209</td><td> 726</td><td>1745</td></tr>\n",
       "\t<tr><th scope=row>5</th><td>1503960366</td><td>4/16/2016</td><td>12669</td><td>8.16</td><td>8.16</td><td>0</td><td>2.71</td><td>0.41</td><td>5.04</td><td>0</td><td>36</td><td>10</td><td>221</td><td> 773</td><td>1863</td></tr>\n",
       "\t<tr><th scope=row>6</th><td>1503960366</td><td>4/17/2016</td><td> 9705</td><td>6.48</td><td>6.48</td><td>0</td><td>3.19</td><td>0.78</td><td>2.51</td><td>0</td><td>38</td><td>20</td><td>164</td><td> 539</td><td>1728</td></tr>\n",
       "</tbody>\n",
       "</table>\n"
      ],
      "text/latex": [
       "A data.frame: 6 × 15\n",
       "\\begin{tabular}{r|lllllllllllllll}\n",
       "  & Id & ActivityDate & TotalSteps & TotalDistance & TrackerDistance & LoggedActivitiesDistance & VeryActiveDistance & ModeratelyActiveDistance & LightActiveDistance & SedentaryActiveDistance & VeryActiveMinutes & FairlyActiveMinutes & LightlyActiveMinutes & SedentaryMinutes & Calories\\\\\n",
       "  & <dbl> & <chr> & <int> & <dbl> & <dbl> & <dbl> & <dbl> & <dbl> & <dbl> & <dbl> & <int> & <int> & <int> & <int> & <int>\\\\\n",
       "\\hline\n",
       "\t1 & 1503960366 & 4/12/2016 & 13162 & 8.50 & 8.50 & 0 & 1.88 & 0.55 & 6.06 & 0 & 25 & 13 & 328 &  728 & 1985\\\\\n",
       "\t2 & 1503960366 & 4/13/2016 & 10735 & 6.97 & 6.97 & 0 & 1.57 & 0.69 & 4.71 & 0 & 21 & 19 & 217 &  776 & 1797\\\\\n",
       "\t3 & 1503960366 & 4/14/2016 & 10460 & 6.74 & 6.74 & 0 & 2.44 & 0.40 & 3.91 & 0 & 30 & 11 & 181 & 1218 & 1776\\\\\n",
       "\t4 & 1503960366 & 4/15/2016 &  9762 & 6.28 & 6.28 & 0 & 2.14 & 1.26 & 2.83 & 0 & 29 & 34 & 209 &  726 & 1745\\\\\n",
       "\t5 & 1503960366 & 4/16/2016 & 12669 & 8.16 & 8.16 & 0 & 2.71 & 0.41 & 5.04 & 0 & 36 & 10 & 221 &  773 & 1863\\\\\n",
       "\t6 & 1503960366 & 4/17/2016 &  9705 & 6.48 & 6.48 & 0 & 3.19 & 0.78 & 2.51 & 0 & 38 & 20 & 164 &  539 & 1728\\\\\n",
       "\\end{tabular}\n"
      ],
      "text/markdown": [
       "\n",
       "A data.frame: 6 × 15\n",
       "\n",
       "| <!--/--> | Id &lt;dbl&gt; | ActivityDate &lt;chr&gt; | TotalSteps &lt;int&gt; | TotalDistance &lt;dbl&gt; | TrackerDistance &lt;dbl&gt; | LoggedActivitiesDistance &lt;dbl&gt; | VeryActiveDistance &lt;dbl&gt; | ModeratelyActiveDistance &lt;dbl&gt; | LightActiveDistance &lt;dbl&gt; | SedentaryActiveDistance &lt;dbl&gt; | VeryActiveMinutes &lt;int&gt; | FairlyActiveMinutes &lt;int&gt; | LightlyActiveMinutes &lt;int&gt; | SedentaryMinutes &lt;int&gt; | Calories &lt;int&gt; |\n",
       "|---|---|---|---|---|---|---|---|---|---|---|---|---|---|---|---|\n",
       "| 1 | 1503960366 | 4/12/2016 | 13162 | 8.50 | 8.50 | 0 | 1.88 | 0.55 | 6.06 | 0 | 25 | 13 | 328 |  728 | 1985 |\n",
       "| 2 | 1503960366 | 4/13/2016 | 10735 | 6.97 | 6.97 | 0 | 1.57 | 0.69 | 4.71 | 0 | 21 | 19 | 217 |  776 | 1797 |\n",
       "| 3 | 1503960366 | 4/14/2016 | 10460 | 6.74 | 6.74 | 0 | 2.44 | 0.40 | 3.91 | 0 | 30 | 11 | 181 | 1218 | 1776 |\n",
       "| 4 | 1503960366 | 4/15/2016 |  9762 | 6.28 | 6.28 | 0 | 2.14 | 1.26 | 2.83 | 0 | 29 | 34 | 209 |  726 | 1745 |\n",
       "| 5 | 1503960366 | 4/16/2016 | 12669 | 8.16 | 8.16 | 0 | 2.71 | 0.41 | 5.04 | 0 | 36 | 10 | 221 |  773 | 1863 |\n",
       "| 6 | 1503960366 | 4/17/2016 |  9705 | 6.48 | 6.48 | 0 | 3.19 | 0.78 | 2.51 | 0 | 38 | 20 | 164 |  539 | 1728 |\n",
       "\n"
      ],
      "text/plain": [
       "  Id         ActivityDate TotalSteps TotalDistance TrackerDistance\n",
       "1 1503960366 4/12/2016    13162      8.50          8.50           \n",
       "2 1503960366 4/13/2016    10735      6.97          6.97           \n",
       "3 1503960366 4/14/2016    10460      6.74          6.74           \n",
       "4 1503960366 4/15/2016     9762      6.28          6.28           \n",
       "5 1503960366 4/16/2016    12669      8.16          8.16           \n",
       "6 1503960366 4/17/2016     9705      6.48          6.48           \n",
       "  LoggedActivitiesDistance VeryActiveDistance ModeratelyActiveDistance\n",
       "1 0                        1.88               0.55                    \n",
       "2 0                        1.57               0.69                    \n",
       "3 0                        2.44               0.40                    \n",
       "4 0                        2.14               1.26                    \n",
       "5 0                        2.71               0.41                    \n",
       "6 0                        3.19               0.78                    \n",
       "  LightActiveDistance SedentaryActiveDistance VeryActiveMinutes\n",
       "1 6.06                0                       25               \n",
       "2 4.71                0                       21               \n",
       "3 3.91                0                       30               \n",
       "4 2.83                0                       29               \n",
       "5 5.04                0                       36               \n",
       "6 2.51                0                       38               \n",
       "  FairlyActiveMinutes LightlyActiveMinutes SedentaryMinutes Calories\n",
       "1 13                  328                   728             1985    \n",
       "2 19                  217                   776             1797    \n",
       "3 11                  181                  1218             1776    \n",
       "4 34                  209                   726             1745    \n",
       "5 10                  221                   773             1863    \n",
       "6 20                  164                   539             1728    "
      ]
     },
     "metadata": {},
     "output_type": "display_data"
    },
    {
     "data": {
      "text/html": [
       "<table class=\"dataframe\">\n",
       "<caption>A data.frame: 6 × 5</caption>\n",
       "<thead>\n",
       "\t<tr><th></th><th scope=col>Id</th><th scope=col>SleepDay</th><th scope=col>TotalSleepRecords</th><th scope=col>TotalMinutesAsleep</th><th scope=col>TotalTimeInBed</th></tr>\n",
       "\t<tr><th></th><th scope=col>&lt;dbl&gt;</th><th scope=col>&lt;chr&gt;</th><th scope=col>&lt;int&gt;</th><th scope=col>&lt;int&gt;</th><th scope=col>&lt;int&gt;</th></tr>\n",
       "</thead>\n",
       "<tbody>\n",
       "\t<tr><th scope=row>1</th><td>1503960366</td><td>4/12/2016 12:00:00 AM</td><td>1</td><td>327</td><td>346</td></tr>\n",
       "\t<tr><th scope=row>2</th><td>1503960366</td><td>4/13/2016 12:00:00 AM</td><td>2</td><td>384</td><td>407</td></tr>\n",
       "\t<tr><th scope=row>3</th><td>1503960366</td><td>4/15/2016 12:00:00 AM</td><td>1</td><td>412</td><td>442</td></tr>\n",
       "\t<tr><th scope=row>4</th><td>1503960366</td><td>4/16/2016 12:00:00 AM</td><td>2</td><td>340</td><td>367</td></tr>\n",
       "\t<tr><th scope=row>5</th><td>1503960366</td><td>4/17/2016 12:00:00 AM</td><td>1</td><td>700</td><td>712</td></tr>\n",
       "\t<tr><th scope=row>6</th><td>1503960366</td><td>4/19/2016 12:00:00 AM</td><td>1</td><td>304</td><td>320</td></tr>\n",
       "</tbody>\n",
       "</table>\n"
      ],
      "text/latex": [
       "A data.frame: 6 × 5\n",
       "\\begin{tabular}{r|lllll}\n",
       "  & Id & SleepDay & TotalSleepRecords & TotalMinutesAsleep & TotalTimeInBed\\\\\n",
       "  & <dbl> & <chr> & <int> & <int> & <int>\\\\\n",
       "\\hline\n",
       "\t1 & 1503960366 & 4/12/2016 12:00:00 AM & 1 & 327 & 346\\\\\n",
       "\t2 & 1503960366 & 4/13/2016 12:00:00 AM & 2 & 384 & 407\\\\\n",
       "\t3 & 1503960366 & 4/15/2016 12:00:00 AM & 1 & 412 & 442\\\\\n",
       "\t4 & 1503960366 & 4/16/2016 12:00:00 AM & 2 & 340 & 367\\\\\n",
       "\t5 & 1503960366 & 4/17/2016 12:00:00 AM & 1 & 700 & 712\\\\\n",
       "\t6 & 1503960366 & 4/19/2016 12:00:00 AM & 1 & 304 & 320\\\\\n",
       "\\end{tabular}\n"
      ],
      "text/markdown": [
       "\n",
       "A data.frame: 6 × 5\n",
       "\n",
       "| <!--/--> | Id &lt;dbl&gt; | SleepDay &lt;chr&gt; | TotalSleepRecords &lt;int&gt; | TotalMinutesAsleep &lt;int&gt; | TotalTimeInBed &lt;int&gt; |\n",
       "|---|---|---|---|---|---|\n",
       "| 1 | 1503960366 | 4/12/2016 12:00:00 AM | 1 | 327 | 346 |\n",
       "| 2 | 1503960366 | 4/13/2016 12:00:00 AM | 2 | 384 | 407 |\n",
       "| 3 | 1503960366 | 4/15/2016 12:00:00 AM | 1 | 412 | 442 |\n",
       "| 4 | 1503960366 | 4/16/2016 12:00:00 AM | 2 | 340 | 367 |\n",
       "| 5 | 1503960366 | 4/17/2016 12:00:00 AM | 1 | 700 | 712 |\n",
       "| 6 | 1503960366 | 4/19/2016 12:00:00 AM | 1 | 304 | 320 |\n",
       "\n"
      ],
      "text/plain": [
       "  Id         SleepDay              TotalSleepRecords TotalMinutesAsleep\n",
       "1 1503960366 4/12/2016 12:00:00 AM 1                 327               \n",
       "2 1503960366 4/13/2016 12:00:00 AM 2                 384               \n",
       "3 1503960366 4/15/2016 12:00:00 AM 1                 412               \n",
       "4 1503960366 4/16/2016 12:00:00 AM 2                 340               \n",
       "5 1503960366 4/17/2016 12:00:00 AM 1                 700               \n",
       "6 1503960366 4/19/2016 12:00:00 AM 1                 304               \n",
       "  TotalTimeInBed\n",
       "1 346           \n",
       "2 407           \n",
       "3 442           \n",
       "4 367           \n",
       "5 712           \n",
       "6 320           "
      ]
     },
     "metadata": {},
     "output_type": "display_data"
    },
    {
     "data": {
      "text/html": [
       "940"
      ],
      "text/latex": [
       "940"
      ],
      "text/markdown": [
       "940"
      ],
      "text/plain": [
       "[1] 940"
      ]
     },
     "metadata": {},
     "output_type": "display_data"
    },
    {
     "data": {
      "text/html": [
       "<style>\n",
       ".list-inline {list-style: none; margin:0; padding: 0}\n",
       ".list-inline>li {display: inline-block}\n",
       ".list-inline>li:not(:last-child)::after {content: \"\\00b7\"; padding: 0 .5ex}\n",
       "</style>\n",
       "<ol class=list-inline><li>940</li><li>15</li></ol>\n"
      ],
      "text/latex": [
       "\\begin{enumerate*}\n",
       "\\item 940\n",
       "\\item 15\n",
       "\\end{enumerate*}\n"
      ],
      "text/markdown": [
       "1. 940\n",
       "2. 15\n",
       "\n",
       "\n"
      ],
      "text/plain": [
       "[1] 940  15"
      ]
     },
     "metadata": {},
     "output_type": "display_data"
    }
   ],
   "source": [
    "#Load packages\n",
    "library(tidyverse) \n",
    "library(ggplot2)\n",
    "library(tidyr) \n",
    "library(lubridate)\n",
    "library(here)\n",
    "\n",
    "#Load data \n",
    "activity <- read.csv(\"/kaggle/input/bellabeat/dailyActivity_merged.csv\")\n",
    "sleep <- read.csv(\"/kaggle/input/bellabeat/sleepDay_merged.csv\")\n",
    "\n",
    "#Cleaning data\n",
    "library(skimr) #Quick summaries of data frames.\n",
    "library(janitor) #Tools for cleaning and examining data.\n",
    "library(dplyr) #Tools for fast and easy data manipulation.\n",
    "#summary of data \n",
    "glimpse(activity)\n",
    "glimpse(sleep)\n",
    "head(activity)\n",
    "head(sleep)\n",
    "nrow(activity)\n",
    "dim(activity)"
   ]
  },
  {
   "cell_type": "markdown",
   "id": "2d09c7eb",
   "metadata": {
    "papermill": {
     "duration": 0.003678,
     "end_time": "2025-06-29T20:25:29.642844",
     "exception": false,
     "start_time": "2025-06-29T20:25:29.639166",
     "status": "completed"
    },
    "tags": []
   },
   "source": [
    "**Process Phase** "
   ]
  },
  {
   "cell_type": "code",
   "execution_count": 2,
   "id": "69452440",
   "metadata": {
    "execution": {
     "iopub.execute_input": "2025-06-29T20:25:29.684757Z",
     "iopub.status.busy": "2025-06-29T20:25:29.652205Z",
     "iopub.status.idle": "2025-06-29T20:25:30.052854Z",
     "shell.execute_reply": "2025-06-29T20:25:30.051187Z"
    },
    "papermill": {
     "duration": 0.408517,
     "end_time": "2025-06-29T20:25:30.054937",
     "exception": false,
     "start_time": "2025-06-29T20:25:29.646420",
     "status": "completed"
    },
    "tags": []
   },
   "outputs": [
    {
     "data": {
      "text/html": [
       "33"
      ],
      "text/latex": [
       "33"
      ],
      "text/markdown": [
       "33"
      ],
      "text/plain": [
       "[1] 33"
      ]
     },
     "metadata": {},
     "output_type": "display_data"
    },
    {
     "data": {
      "text/html": [
       "24"
      ],
      "text/latex": [
       "24"
      ],
      "text/markdown": [
       "24"
      ],
      "text/plain": [
       "[1] 24"
      ]
     },
     "metadata": {},
     "output_type": "display_data"
    },
    {
     "data": {
      "text/html": [
       "24"
      ],
      "text/latex": [
       "24"
      ],
      "text/markdown": [
       "24"
      ],
      "text/plain": [
       "[1] 24"
      ]
     },
     "metadata": {},
     "output_type": "display_data"
    },
    {
     "data": {
      "text/html": [
       "<style>\n",
       ".list-inline {list-style: none; margin:0; padding: 0}\n",
       ".list-inline>li {display: inline-block}\n",
       ".list-inline>li:not(:last-child)::after {content: \"\\00b7\"; padding: 0 .5ex}\n",
       "</style>\n",
       "<ol class=list-inline><li><time datetime=\"2016-04-12\">2016-04-12</time></li><li><time datetime=\"2016-05-12\">2016-05-12</time></li></ol>\n"
      ],
      "text/latex": [
       "\\begin{enumerate*}\n",
       "\\item 2016-04-12\n",
       "\\item 2016-05-12\n",
       "\\end{enumerate*}\n"
      ],
      "text/markdown": [
       "1. 2016-04-12\n",
       "2. 2016-05-12\n",
       "\n",
       "\n"
      ],
      "text/plain": [
       "[1] \"2016-04-12\" \"2016-05-12\""
      ]
     },
     "metadata": {},
     "output_type": "display_data"
    },
    {
     "data": {
      "text/plain": [
       "[1] \"2016-04-12 UTC\" \"2016-05-12 UTC\""
      ]
     },
     "metadata": {},
     "output_type": "display_data"
    },
    {
     "data": {
      "text/html": [
       "<time datetime=\"2016-04-12\">2016-04-12</time>"
      ],
      "text/latex": [
       "2016-04-12"
      ],
      "text/markdown": [
       "2016-04-12"
      ],
      "text/plain": [
       "[1] \"2016-04-12\""
      ]
     },
     "metadata": {},
     "output_type": "display_data"
    },
    {
     "data": {
      "text/html": [
       "<time datetime=\"2016-05-12\">2016-05-12</time>"
      ],
      "text/latex": [
       "2016-05-12"
      ],
      "text/markdown": [
       "2016-05-12"
      ],
      "text/plain": [
       "[1] \"2016-05-12\""
      ]
     },
     "metadata": {},
     "output_type": "display_data"
    },
    {
     "data": {
      "text/html": [
       "<style>\n",
       ".list-inline {list-style: none; margin:0; padding: 0}\n",
       ".list-inline>li {display: inline-block}\n",
       ".list-inline>li:not(:last-child)::after {content: \"\\00b7\"; padding: 0 .5ex}\n",
       "</style>\n",
       "<ol class=list-inline><li>'id'</li><li>'activity_date'</li><li>'total_steps'</li><li>'total_distance'</li><li>'tracker_distance'</li><li>'logged_activities_distance'</li><li>'very_active_distance'</li><li>'moderately_active_distance'</li><li>'light_active_distance'</li><li>'sedentary_active_distance'</li><li>'very_active_minutes'</li><li>'fairly_active_minutes'</li><li>'lightly_active_minutes'</li><li>'sedentary_minutes'</li><li>'calories'</li><li>'activity_date_formated'</li></ol>\n"
      ],
      "text/latex": [
       "\\begin{enumerate*}\n",
       "\\item 'id'\n",
       "\\item 'activity\\_date'\n",
       "\\item 'total\\_steps'\n",
       "\\item 'total\\_distance'\n",
       "\\item 'tracker\\_distance'\n",
       "\\item 'logged\\_activities\\_distance'\n",
       "\\item 'very\\_active\\_distance'\n",
       "\\item 'moderately\\_active\\_distance'\n",
       "\\item 'light\\_active\\_distance'\n",
       "\\item 'sedentary\\_active\\_distance'\n",
       "\\item 'very\\_active\\_minutes'\n",
       "\\item 'fairly\\_active\\_minutes'\n",
       "\\item 'lightly\\_active\\_minutes'\n",
       "\\item 'sedentary\\_minutes'\n",
       "\\item 'calories'\n",
       "\\item 'activity\\_date\\_formated'\n",
       "\\end{enumerate*}\n"
      ],
      "text/markdown": [
       "1. 'id'\n",
       "2. 'activity_date'\n",
       "3. 'total_steps'\n",
       "4. 'total_distance'\n",
       "5. 'tracker_distance'\n",
       "6. 'logged_activities_distance'\n",
       "7. 'very_active_distance'\n",
       "8. 'moderately_active_distance'\n",
       "9. 'light_active_distance'\n",
       "10. 'sedentary_active_distance'\n",
       "11. 'very_active_minutes'\n",
       "12. 'fairly_active_minutes'\n",
       "13. 'lightly_active_minutes'\n",
       "14. 'sedentary_minutes'\n",
       "15. 'calories'\n",
       "16. 'activity_date_formated'\n",
       "\n",
       "\n"
      ],
      "text/plain": [
       " [1] \"id\"                         \"activity_date\"             \n",
       " [3] \"total_steps\"                \"total_distance\"            \n",
       " [5] \"tracker_distance\"           \"logged_activities_distance\"\n",
       " [7] \"very_active_distance\"       \"moderately_active_distance\"\n",
       " [9] \"light_active_distance\"      \"sedentary_active_distance\" \n",
       "[11] \"very_active_minutes\"        \"fairly_active_minutes\"     \n",
       "[13] \"lightly_active_minutes\"     \"sedentary_minutes\"         \n",
       "[15] \"calories\"                   \"activity_date_formated\"    "
      ]
     },
     "metadata": {},
     "output_type": "display_data"
    },
    {
     "data": {
      "text/html": [
       "<style>\n",
       ".list-inline {list-style: none; margin:0; padding: 0}\n",
       ".list-inline>li {display: inline-block}\n",
       ".list-inline>li:not(:last-child)::after {content: \"\\00b7\"; padding: 0 .5ex}\n",
       "</style>\n",
       "<ol class=list-inline><li>'id'</li><li>'sleep_day'</li><li>'total_sleep_records'</li><li>'total_minutes_asleep'</li><li>'total_time_in_bed'</li><li>'sleep_day_formated'</li></ol>\n"
      ],
      "text/latex": [
       "\\begin{enumerate*}\n",
       "\\item 'id'\n",
       "\\item 'sleep\\_day'\n",
       "\\item 'total\\_sleep\\_records'\n",
       "\\item 'total\\_minutes\\_asleep'\n",
       "\\item 'total\\_time\\_in\\_bed'\n",
       "\\item 'sleep\\_day\\_formated'\n",
       "\\end{enumerate*}\n"
      ],
      "text/markdown": [
       "1. 'id'\n",
       "2. 'sleep_day'\n",
       "3. 'total_sleep_records'\n",
       "4. 'total_minutes_asleep'\n",
       "5. 'total_time_in_bed'\n",
       "6. 'sleep_day_formated'\n",
       "\n",
       "\n"
      ],
      "text/plain": [
       "[1] \"id\"                   \"sleep_day\"            \"total_sleep_records\" \n",
       "[4] \"total_minutes_asleep\" \"total_time_in_bed\"    \"sleep_day_formated\"  "
      ]
     },
     "metadata": {},
     "output_type": "display_data"
    },
    {
     "data": {
      "text/html": [
       "0"
      ],
      "text/latex": [
       "0"
      ],
      "text/markdown": [
       "0"
      ],
      "text/plain": [
       "[1] 0"
      ]
     },
     "metadata": {},
     "output_type": "display_data"
    },
    {
     "data": {
      "text/html": [
       "0"
      ],
      "text/latex": [
       "0"
      ],
      "text/markdown": [
       "0"
      ],
      "text/plain": [
       "[1] 0"
      ]
     },
     "metadata": {},
     "output_type": "display_data"
    },
    {
     "data": {
      "text/html": [
       "<style>\n",
       ".dl-inline {width: auto; margin:0; padding: 0}\n",
       ".dl-inline>dt, .dl-inline>dd {float: none; width: auto; display: inline-block}\n",
       ".dl-inline>dt::after {content: \":\\0020\"; padding-right: .5ex}\n",
       ".dl-inline>dt:not(:first-of-type) {padding-left: .5ex}\n",
       "</style><dl class=dl-inline><dt>id</dt><dd>0</dd><dt>activity_date</dt><dd>0</dd><dt>total_steps</dt><dd>0</dd><dt>total_distance</dt><dd>0</dd><dt>tracker_distance</dt><dd>0</dd><dt>logged_activities_distance</dt><dd>0</dd><dt>very_active_distance</dt><dd>0</dd><dt>moderately_active_distance</dt><dd>0</dd><dt>light_active_distance</dt><dd>0</dd><dt>sedentary_active_distance</dt><dd>0</dd><dt>very_active_minutes</dt><dd>0</dd><dt>fairly_active_minutes</dt><dd>0</dd><dt>lightly_active_minutes</dt><dd>0</dd><dt>sedentary_minutes</dt><dd>0</dd><dt>calories</dt><dd>0</dd><dt>activity_date_formated</dt><dd>0</dd></dl>\n"
      ],
      "text/latex": [
       "\\begin{description*}\n",
       "\\item[id] 0\n",
       "\\item[activity\\textbackslash{}\\_date] 0\n",
       "\\item[total\\textbackslash{}\\_steps] 0\n",
       "\\item[total\\textbackslash{}\\_distance] 0\n",
       "\\item[tracker\\textbackslash{}\\_distance] 0\n",
       "\\item[logged\\textbackslash{}\\_activities\\textbackslash{}\\_distance] 0\n",
       "\\item[very\\textbackslash{}\\_active\\textbackslash{}\\_distance] 0\n",
       "\\item[moderately\\textbackslash{}\\_active\\textbackslash{}\\_distance] 0\n",
       "\\item[light\\textbackslash{}\\_active\\textbackslash{}\\_distance] 0\n",
       "\\item[sedentary\\textbackslash{}\\_active\\textbackslash{}\\_distance] 0\n",
       "\\item[very\\textbackslash{}\\_active\\textbackslash{}\\_minutes] 0\n",
       "\\item[fairly\\textbackslash{}\\_active\\textbackslash{}\\_minutes] 0\n",
       "\\item[lightly\\textbackslash{}\\_active\\textbackslash{}\\_minutes] 0\n",
       "\\item[sedentary\\textbackslash{}\\_minutes] 0\n",
       "\\item[calories] 0\n",
       "\\item[activity\\textbackslash{}\\_date\\textbackslash{}\\_formated] 0\n",
       "\\end{description*}\n"
      ],
      "text/markdown": [
       "id\n",
       ":   0activity_date\n",
       ":   0total_steps\n",
       ":   0total_distance\n",
       ":   0tracker_distance\n",
       ":   0logged_activities_distance\n",
       ":   0very_active_distance\n",
       ":   0moderately_active_distance\n",
       ":   0light_active_distance\n",
       ":   0sedentary_active_distance\n",
       ":   0very_active_minutes\n",
       ":   0fairly_active_minutes\n",
       ":   0lightly_active_minutes\n",
       ":   0sedentary_minutes\n",
       ":   0calories\n",
       ":   0activity_date_formated\n",
       ":   0\n",
       "\n"
      ],
      "text/plain": [
       "                        id              activity_date \n",
       "                         0                          0 \n",
       "               total_steps             total_distance \n",
       "                         0                          0 \n",
       "          tracker_distance logged_activities_distance \n",
       "                         0                          0 \n",
       "      very_active_distance moderately_active_distance \n",
       "                         0                          0 \n",
       "     light_active_distance  sedentary_active_distance \n",
       "                         0                          0 \n",
       "       very_active_minutes      fairly_active_minutes \n",
       "                         0                          0 \n",
       "    lightly_active_minutes          sedentary_minutes \n",
       "                         0                          0 \n",
       "                  calories     activity_date_formated \n",
       "                         0                          0 "
      ]
     },
     "metadata": {},
     "output_type": "display_data"
    },
    {
     "data": {
      "text/html": [
       "<style>\n",
       ".dl-inline {width: auto; margin:0; padding: 0}\n",
       ".dl-inline>dt, .dl-inline>dd {float: none; width: auto; display: inline-block}\n",
       ".dl-inline>dt::after {content: \":\\0020\"; padding-right: .5ex}\n",
       ".dl-inline>dt:not(:first-of-type) {padding-left: .5ex}\n",
       "</style><dl class=dl-inline><dt>id</dt><dd>0</dd><dt>sleep_day</dt><dd>0</dd><dt>total_sleep_records</dt><dd>0</dd><dt>total_minutes_asleep</dt><dd>0</dd><dt>total_time_in_bed</dt><dd>0</dd><dt>sleep_day_formated</dt><dd>0</dd></dl>\n"
      ],
      "text/latex": [
       "\\begin{description*}\n",
       "\\item[id] 0\n",
       "\\item[sleep\\textbackslash{}\\_day] 0\n",
       "\\item[total\\textbackslash{}\\_sleep\\textbackslash{}\\_records] 0\n",
       "\\item[total\\textbackslash{}\\_minutes\\textbackslash{}\\_asleep] 0\n",
       "\\item[total\\textbackslash{}\\_time\\textbackslash{}\\_in\\textbackslash{}\\_bed] 0\n",
       "\\item[sleep\\textbackslash{}\\_day\\textbackslash{}\\_formated] 0\n",
       "\\end{description*}\n"
      ],
      "text/markdown": [
       "id\n",
       ":   0sleep_day\n",
       ":   0total_sleep_records\n",
       ":   0total_minutes_asleep\n",
       ":   0total_time_in_bed\n",
       ":   0sleep_day_formated\n",
       ":   0\n",
       "\n"
      ],
      "text/plain": [
       "                  id            sleep_day  total_sleep_records \n",
       "                   0                    0                    0 \n",
       "total_minutes_asleep    total_time_in_bed   sleep_day_formated \n",
       "                   0                    0                    0 "
      ]
     },
     "metadata": {},
     "output_type": "display_data"
    },
    {
     "data": {
      "text/html": [],
      "text/latex": [],
      "text/markdown": [],
      "text/plain": [
       "named numeric(0)"
      ]
     },
     "metadata": {},
     "output_type": "display_data"
    },
    {
     "data": {
      "text/html": [
       "<table class=\"dataframe\">\n",
       "<caption>A data.frame: 6 × 16</caption>\n",
       "<thead>\n",
       "\t<tr><th></th><th scope=col>id</th><th scope=col>activity_date</th><th scope=col>total_steps</th><th scope=col>total_distance</th><th scope=col>tracker_distance</th><th scope=col>logged_activities_distance</th><th scope=col>very_active_distance</th><th scope=col>moderately_active_distance</th><th scope=col>light_active_distance</th><th scope=col>sedentary_active_distance</th><th scope=col>very_active_minutes</th><th scope=col>fairly_active_minutes</th><th scope=col>lightly_active_minutes</th><th scope=col>sedentary_minutes</th><th scope=col>calories</th><th scope=col>activity_date_formated</th></tr>\n",
       "\t<tr><th></th><th scope=col>&lt;dbl&gt;</th><th scope=col>&lt;chr&gt;</th><th scope=col>&lt;int&gt;</th><th scope=col>&lt;dbl&gt;</th><th scope=col>&lt;dbl&gt;</th><th scope=col>&lt;dbl&gt;</th><th scope=col>&lt;dbl&gt;</th><th scope=col>&lt;dbl&gt;</th><th scope=col>&lt;dbl&gt;</th><th scope=col>&lt;dbl&gt;</th><th scope=col>&lt;int&gt;</th><th scope=col>&lt;int&gt;</th><th scope=col>&lt;int&gt;</th><th scope=col>&lt;int&gt;</th><th scope=col>&lt;int&gt;</th><th scope=col>&lt;date&gt;</th></tr>\n",
       "</thead>\n",
       "<tbody>\n",
       "\t<tr><th scope=row>1</th><td>1503960366</td><td>4/12/2016</td><td>13162</td><td>8.50</td><td>8.50</td><td>0</td><td>1.88</td><td>0.55</td><td>6.06</td><td>0</td><td>25</td><td>13</td><td>328</td><td> 728</td><td>1985</td><td>2016-04-12</td></tr>\n",
       "\t<tr><th scope=row>2</th><td>1503960366</td><td>4/13/2016</td><td>10735</td><td>6.97</td><td>6.97</td><td>0</td><td>1.57</td><td>0.69</td><td>4.71</td><td>0</td><td>21</td><td>19</td><td>217</td><td> 776</td><td>1797</td><td>2016-04-13</td></tr>\n",
       "\t<tr><th scope=row>3</th><td>1503960366</td><td>4/14/2016</td><td>10460</td><td>6.74</td><td>6.74</td><td>0</td><td>2.44</td><td>0.40</td><td>3.91</td><td>0</td><td>30</td><td>11</td><td>181</td><td>1218</td><td>1776</td><td>2016-04-14</td></tr>\n",
       "\t<tr><th scope=row>4</th><td>1503960366</td><td>4/15/2016</td><td> 9762</td><td>6.28</td><td>6.28</td><td>0</td><td>2.14</td><td>1.26</td><td>2.83</td><td>0</td><td>29</td><td>34</td><td>209</td><td> 726</td><td>1745</td><td>2016-04-15</td></tr>\n",
       "\t<tr><th scope=row>5</th><td>1503960366</td><td>4/16/2016</td><td>12669</td><td>8.16</td><td>8.16</td><td>0</td><td>2.71</td><td>0.41</td><td>5.04</td><td>0</td><td>36</td><td>10</td><td>221</td><td> 773</td><td>1863</td><td>2016-04-16</td></tr>\n",
       "\t<tr><th scope=row>6</th><td>1503960366</td><td>4/17/2016</td><td> 9705</td><td>6.48</td><td>6.48</td><td>0</td><td>3.19</td><td>0.78</td><td>2.51</td><td>0</td><td>38</td><td>20</td><td>164</td><td> 539</td><td>1728</td><td>2016-04-17</td></tr>\n",
       "</tbody>\n",
       "</table>\n"
      ],
      "text/latex": [
       "A data.frame: 6 × 16\n",
       "\\begin{tabular}{r|llllllllllllllll}\n",
       "  & id & activity\\_date & total\\_steps & total\\_distance & tracker\\_distance & logged\\_activities\\_distance & very\\_active\\_distance & moderately\\_active\\_distance & light\\_active\\_distance & sedentary\\_active\\_distance & very\\_active\\_minutes & fairly\\_active\\_minutes & lightly\\_active\\_minutes & sedentary\\_minutes & calories & activity\\_date\\_formated\\\\\n",
       "  & <dbl> & <chr> & <int> & <dbl> & <dbl> & <dbl> & <dbl> & <dbl> & <dbl> & <dbl> & <int> & <int> & <int> & <int> & <int> & <date>\\\\\n",
       "\\hline\n",
       "\t1 & 1503960366 & 4/12/2016 & 13162 & 8.50 & 8.50 & 0 & 1.88 & 0.55 & 6.06 & 0 & 25 & 13 & 328 &  728 & 1985 & 2016-04-12\\\\\n",
       "\t2 & 1503960366 & 4/13/2016 & 10735 & 6.97 & 6.97 & 0 & 1.57 & 0.69 & 4.71 & 0 & 21 & 19 & 217 &  776 & 1797 & 2016-04-13\\\\\n",
       "\t3 & 1503960366 & 4/14/2016 & 10460 & 6.74 & 6.74 & 0 & 2.44 & 0.40 & 3.91 & 0 & 30 & 11 & 181 & 1218 & 1776 & 2016-04-14\\\\\n",
       "\t4 & 1503960366 & 4/15/2016 &  9762 & 6.28 & 6.28 & 0 & 2.14 & 1.26 & 2.83 & 0 & 29 & 34 & 209 &  726 & 1745 & 2016-04-15\\\\\n",
       "\t5 & 1503960366 & 4/16/2016 & 12669 & 8.16 & 8.16 & 0 & 2.71 & 0.41 & 5.04 & 0 & 36 & 10 & 221 &  773 & 1863 & 2016-04-16\\\\\n",
       "\t6 & 1503960366 & 4/17/2016 &  9705 & 6.48 & 6.48 & 0 & 3.19 & 0.78 & 2.51 & 0 & 38 & 20 & 164 &  539 & 1728 & 2016-04-17\\\\\n",
       "\\end{tabular}\n"
      ],
      "text/markdown": [
       "\n",
       "A data.frame: 6 × 16\n",
       "\n",
       "| <!--/--> | id &lt;dbl&gt; | activity_date &lt;chr&gt; | total_steps &lt;int&gt; | total_distance &lt;dbl&gt; | tracker_distance &lt;dbl&gt; | logged_activities_distance &lt;dbl&gt; | very_active_distance &lt;dbl&gt; | moderately_active_distance &lt;dbl&gt; | light_active_distance &lt;dbl&gt; | sedentary_active_distance &lt;dbl&gt; | very_active_minutes &lt;int&gt; | fairly_active_minutes &lt;int&gt; | lightly_active_minutes &lt;int&gt; | sedentary_minutes &lt;int&gt; | calories &lt;int&gt; | activity_date_formated &lt;date&gt; |\n",
       "|---|---|---|---|---|---|---|---|---|---|---|---|---|---|---|---|---|\n",
       "| 1 | 1503960366 | 4/12/2016 | 13162 | 8.50 | 8.50 | 0 | 1.88 | 0.55 | 6.06 | 0 | 25 | 13 | 328 |  728 | 1985 | 2016-04-12 |\n",
       "| 2 | 1503960366 | 4/13/2016 | 10735 | 6.97 | 6.97 | 0 | 1.57 | 0.69 | 4.71 | 0 | 21 | 19 | 217 |  776 | 1797 | 2016-04-13 |\n",
       "| 3 | 1503960366 | 4/14/2016 | 10460 | 6.74 | 6.74 | 0 | 2.44 | 0.40 | 3.91 | 0 | 30 | 11 | 181 | 1218 | 1776 | 2016-04-14 |\n",
       "| 4 | 1503960366 | 4/15/2016 |  9762 | 6.28 | 6.28 | 0 | 2.14 | 1.26 | 2.83 | 0 | 29 | 34 | 209 |  726 | 1745 | 2016-04-15 |\n",
       "| 5 | 1503960366 | 4/16/2016 | 12669 | 8.16 | 8.16 | 0 | 2.71 | 0.41 | 5.04 | 0 | 36 | 10 | 221 |  773 | 1863 | 2016-04-16 |\n",
       "| 6 | 1503960366 | 4/17/2016 |  9705 | 6.48 | 6.48 | 0 | 3.19 | 0.78 | 2.51 | 0 | 38 | 20 | 164 |  539 | 1728 | 2016-04-17 |\n",
       "\n"
      ],
      "text/plain": [
       "  id         activity_date total_steps total_distance tracker_distance\n",
       "1 1503960366 4/12/2016     13162       8.50           8.50            \n",
       "2 1503960366 4/13/2016     10735       6.97           6.97            \n",
       "3 1503960366 4/14/2016     10460       6.74           6.74            \n",
       "4 1503960366 4/15/2016      9762       6.28           6.28            \n",
       "5 1503960366 4/16/2016     12669       8.16           8.16            \n",
       "6 1503960366 4/17/2016      9705       6.48           6.48            \n",
       "  logged_activities_distance very_active_distance moderately_active_distance\n",
       "1 0                          1.88                 0.55                      \n",
       "2 0                          1.57                 0.69                      \n",
       "3 0                          2.44                 0.40                      \n",
       "4 0                          2.14                 1.26                      \n",
       "5 0                          2.71                 0.41                      \n",
       "6 0                          3.19                 0.78                      \n",
       "  light_active_distance sedentary_active_distance very_active_minutes\n",
       "1 6.06                  0                         25                 \n",
       "2 4.71                  0                         21                 \n",
       "3 3.91                  0                         30                 \n",
       "4 2.83                  0                         29                 \n",
       "5 5.04                  0                         36                 \n",
       "6 2.51                  0                         38                 \n",
       "  fairly_active_minutes lightly_active_minutes sedentary_minutes calories\n",
       "1 13                    328                     728              1985    \n",
       "2 19                    217                     776              1797    \n",
       "3 11                    181                    1218              1776    \n",
       "4 34                    209                     726              1745    \n",
       "5 10                    221                     773              1863    \n",
       "6 20                    164                     539              1728    \n",
       "  activity_date_formated\n",
       "1 2016-04-12            \n",
       "2 2016-04-13            \n",
       "3 2016-04-14            \n",
       "4 2016-04-15            \n",
       "5 2016-04-16            \n",
       "6 2016-04-17            "
      ]
     },
     "metadata": {},
     "output_type": "display_data"
    },
    {
     "data": {
      "text/html": [
       "0"
      ],
      "text/latex": [
       "0"
      ],
      "text/markdown": [
       "0"
      ],
      "text/plain": [
       "[1] 0"
      ]
     },
     "metadata": {},
     "output_type": "display_data"
    },
    {
     "data": {
      "text/html": [
       "0"
      ],
      "text/latex": [
       "0"
      ],
      "text/markdown": [
       "0"
      ],
      "text/plain": [
       "[1] 0"
      ]
     },
     "metadata": {},
     "output_type": "display_data"
    }
   ],
   "source": [
    "#process phase - date format\n",
    "activity <- activity %>%\n",
    "  clean_names() %>% \n",
    "  mutate(activity_date_formated = mdy(activity_date)) %>%\n",
    "  distinct()  \n",
    "\n",
    "sleep <- sleep %>%\n",
    "  clean_names() %>% \n",
    "  mutate(sleep_day_formated = mdy_hms(sleep_day)) %>%\n",
    "  distinct()\n",
    "#How many unique users?\n",
    "n_distinct(activity$id)\n",
    "n_distinct(sleep$id)\n",
    "# Check Overlapping Users Across Tables\n",
    "intersect_users <- intersect(activity$id, sleep$id)\n",
    "length(unique(intersect_users))\n",
    "\n",
    "\n",
    "# What time period is covered?\n",
    "range(activity$activity_date_formated)\n",
    "range(sleep$sleep_day_formated)\n",
    "\n",
    "#or \n",
    "min(activity$activity_date_formated)\n",
    "max(activity$activity_date_formated)\n",
    "\n",
    "# Which variables are present?\n",
    "names(activity)\n",
    "names(sleep)\n",
    "\n",
    "# Are there missing values or duplicates?\n",
    "sum(is.na(activity))\n",
    "sum(is.na(sleep))\n",
    "colSums(is.na(activity))\n",
    "colSums(is.na(sleep))\n",
    "\n",
    "missing_summary <- colSums(is.na(activity))\n",
    "missing_summary[missing_summary == nrow(activity)]  # Fully empty columns\n",
    "\n",
    "activity <- activity %>%\n",
    "  select(where( ~ !all(is.na(.))))\n",
    "head(activity)\n",
    "\n",
    "\n",
    "#check for duplicates \n",
    "sum(duplicated(activity))\n",
    "sum(duplicated(sleep))\n"
   ]
  },
  {
   "cell_type": "markdown",
   "id": "661e4df7",
   "metadata": {
    "papermill": {
     "duration": 0.007543,
     "end_time": "2025-06-29T20:25:30.068736",
     "exception": false,
     "start_time": "2025-06-29T20:25:30.061193",
     "status": "completed"
    },
    "tags": []
   },
   "source": [
    "**Analyze Phase**"
   ]
  },
  {
   "cell_type": "code",
   "execution_count": 3,
   "id": "483b799c",
   "metadata": {
    "execution": {
     "iopub.execute_input": "2025-06-29T20:25:30.084808Z",
     "iopub.status.busy": "2025-06-29T20:25:30.083239Z",
     "iopub.status.idle": "2025-06-29T20:25:33.261417Z",
     "shell.execute_reply": "2025-06-29T20:25:33.258782Z"
    },
    "papermill": {
     "duration": 3.189855,
     "end_time": "2025-06-29T20:25:33.264566",
     "exception": false,
     "start_time": "2025-06-29T20:25:30.074711",
     "status": "completed"
    },
    "tags": []
   },
   "outputs": [
    {
     "name": "stdout",
     "output_type": "stream",
     "text": [
      "\u001b[90m# A tibble: 33 × 3\u001b[39m\n",
      "           id records averge_daily_steps\n",
      "        \u001b[3m\u001b[90m<dbl>\u001b[39m\u001b[23m   \u001b[3m\u001b[90m<int>\u001b[39m\u001b[23m              \u001b[3m\u001b[90m<dbl>\u001b[39m\u001b[23m\n",
      "\u001b[90m 1\u001b[39m \u001b[4m8\u001b[24m877\u001b[4m6\u001b[24m\u001b[4m8\u001b[24m\u001b[4m9\u001b[24m391      31             \u001b[4m1\u001b[24m\u001b[4m6\u001b[24m040.\n",
      "\u001b[90m 2\u001b[39m \u001b[4m8\u001b[24m053\u001b[4m4\u001b[24m\u001b[4m7\u001b[24m\u001b[4m5\u001b[24m328      31             \u001b[4m1\u001b[24m\u001b[4m4\u001b[24m763.\n",
      "\u001b[90m 3\u001b[39m \u001b[4m1\u001b[24m503\u001b[4m9\u001b[24m\u001b[4m6\u001b[24m\u001b[4m0\u001b[24m366      31             \u001b[4m1\u001b[24m\u001b[4m2\u001b[24m117.\n",
      "\u001b[90m 4\u001b[39m \u001b[4m2\u001b[24m022\u001b[4m4\u001b[24m\u001b[4m8\u001b[24m\u001b[4m4\u001b[24m408      31             \u001b[4m1\u001b[24m\u001b[4m1\u001b[24m371.\n",
      "\u001b[90m 5\u001b[39m \u001b[4m7\u001b[24m007\u001b[4m7\u001b[24m\u001b[4m4\u001b[24m\u001b[4m4\u001b[24m171      26             \u001b[4m1\u001b[24m\u001b[4m1\u001b[24m323.\n",
      "\u001b[90m 6\u001b[39m \u001b[4m3\u001b[24m977\u001b[4m3\u001b[24m\u001b[4m3\u001b[24m\u001b[4m3\u001b[24m714      30             \u001b[4m1\u001b[24m\u001b[4m0\u001b[24m985.\n",
      "\u001b[90m 7\u001b[39m \u001b[4m4\u001b[24m388\u001b[4m1\u001b[24m\u001b[4m6\u001b[24m\u001b[4m1\u001b[24m847      31             \u001b[4m1\u001b[24m\u001b[4m0\u001b[24m814.\n",
      "\u001b[90m 8\u001b[39m \u001b[4m6\u001b[24m962\u001b[4m1\u001b[24m\u001b[4m8\u001b[24m\u001b[4m1\u001b[24m067      31              \u001b[4m9\u001b[24m795.\n",
      "\u001b[90m 9\u001b[39m \u001b[4m2\u001b[24m347\u001b[4m1\u001b[24m\u001b[4m6\u001b[24m\u001b[4m7\u001b[24m796      18              \u001b[4m9\u001b[24m520.\n",
      "\u001b[90m10\u001b[39m \u001b[4m7\u001b[24m086\u001b[4m3\u001b[24m\u001b[4m6\u001b[24m\u001b[4m1\u001b[24m926      31              \u001b[4m9\u001b[24m372.\n",
      "\u001b[90m11\u001b[39m \u001b[4m8\u001b[24m378\u001b[4m5\u001b[24m\u001b[4m6\u001b[24m\u001b[4m3\u001b[24m200      31              \u001b[4m8\u001b[24m718.\n",
      "\u001b[90m12\u001b[39m \u001b[4m5\u001b[24m553\u001b[4m9\u001b[24m\u001b[4m5\u001b[24m\u001b[4m7\u001b[24m443      31              \u001b[4m8\u001b[24m613.\n",
      "\u001b[90m13\u001b[39m \u001b[4m4\u001b[24m702\u001b[4m9\u001b[24m\u001b[4m2\u001b[24m\u001b[4m1\u001b[24m684      31              \u001b[4m8\u001b[24m572.\n",
      "\u001b[90m14\u001b[39m \u001b[4m5\u001b[24m577\u001b[4m1\u001b[24m\u001b[4m5\u001b[24m\u001b[4m0\u001b[24m313      30              \u001b[4m8\u001b[24m304.\n",
      "\u001b[90m15\u001b[39m \u001b[4m4\u001b[24m558\u001b[4m6\u001b[24m\u001b[4m0\u001b[24m\u001b[4m9\u001b[24m924      31              \u001b[4m7\u001b[24m685.\n",
      "\u001b[90m16\u001b[39m \u001b[4m2\u001b[24m873\u001b[4m2\u001b[24m\u001b[4m1\u001b[24m\u001b[4m2\u001b[24m765      31              \u001b[4m7\u001b[24m556.\n",
      "\u001b[90m17\u001b[39m \u001b[4m1\u001b[24m644\u001b[4m4\u001b[24m\u001b[4m3\u001b[24m\u001b[4m0\u001b[24m081      30              \u001b[4m7\u001b[24m283.\n",
      "\u001b[90m18\u001b[39m \u001b[4m4\u001b[24m319\u001b[4m7\u001b[24m\u001b[4m0\u001b[24m\u001b[4m3\u001b[24m577      31              \u001b[4m7\u001b[24m269.\n",
      "\u001b[90m19\u001b[39m \u001b[4m8\u001b[24m583\u001b[4m8\u001b[24m\u001b[4m1\u001b[24m\u001b[4m5\u001b[24m059      31              \u001b[4m7\u001b[24m199.\n",
      "\u001b[90m20\u001b[39m \u001b[4m6\u001b[24m117\u001b[4m6\u001b[24m\u001b[4m6\u001b[24m\u001b[4m6\u001b[24m160      28              \u001b[4m7\u001b[24m047.\n",
      "\u001b[90m21\u001b[39m \u001b[4m3\u001b[24m372\u001b[4m8\u001b[24m\u001b[4m6\u001b[24m\u001b[4m8\u001b[24m164      20              \u001b[4m6\u001b[24m862.\n",
      "\u001b[90m22\u001b[39m \u001b[4m8\u001b[24m253\u001b[4m2\u001b[24m\u001b[4m4\u001b[24m\u001b[4m2\u001b[24m879      19              \u001b[4m6\u001b[24m482.\n",
      "\u001b[90m23\u001b[39m \u001b[4m1\u001b[24m624\u001b[4m5\u001b[24m\u001b[4m8\u001b[24m\u001b[4m0\u001b[24m081      31              \u001b[4m5\u001b[24m744.\n",
      "\u001b[90m24\u001b[39m \u001b[4m6\u001b[24m290\u001b[4m8\u001b[24m\u001b[4m5\u001b[24m\u001b[4m5\u001b[24m005      29              \u001b[4m5\u001b[24m650.\n",
      "\u001b[90m25\u001b[39m \u001b[4m2\u001b[24m026\u001b[4m3\u001b[24m\u001b[4m5\u001b[24m\u001b[4m2\u001b[24m035      31              \u001b[4m5\u001b[24m567.\n",
      "\u001b[90m26\u001b[39m \u001b[4m4\u001b[24m445\u001b[4m1\u001b[24m\u001b[4m1\u001b[24m\u001b[4m4\u001b[24m986      31              \u001b[4m4\u001b[24m797.\n",
      "\u001b[90m27\u001b[39m \u001b[4m2\u001b[24m320\u001b[4m1\u001b[24m\u001b[4m2\u001b[24m\u001b[4m7\u001b[24m002      31              \u001b[4m4\u001b[24m717.\n",
      "\u001b[90m28\u001b[39m \u001b[4m4\u001b[24m057\u001b[4m1\u001b[24m\u001b[4m9\u001b[24m\u001b[4m2\u001b[24m912       4              \u001b[4m3\u001b[24m838 \n",
      "\u001b[90m29\u001b[39m \u001b[4m1\u001b[24m844\u001b[4m5\u001b[24m\u001b[4m0\u001b[24m\u001b[4m5\u001b[24m072      31              \u001b[4m2\u001b[24m580.\n",
      "\u001b[90m30\u001b[39m \u001b[4m6\u001b[24m775\u001b[4m8\u001b[24m\u001b[4m8\u001b[24m\u001b[4m8\u001b[24m955      26              \u001b[4m2\u001b[24m520.\n",
      "\u001b[90m31\u001b[39m \u001b[4m4\u001b[24m020\u001b[4m3\u001b[24m\u001b[4m3\u001b[24m\u001b[4m2\u001b[24m650      31              \u001b[4m2\u001b[24m267.\n",
      "\u001b[90m32\u001b[39m \u001b[4m8\u001b[24m792\u001b[4m0\u001b[24m\u001b[4m0\u001b[24m\u001b[4m9\u001b[24m665      29              \u001b[4m1\u001b[24m854.\n",
      "\u001b[90m33\u001b[39m \u001b[4m1\u001b[24m927\u001b[4m9\u001b[24m\u001b[4m7\u001b[24m\u001b[4m2\u001b[24m279      31               916.\n"
     ]
    },
    {
     "name": "stdout",
     "output_type": "stream",
     "text": [
      "         n\n",
      "1 75.75758\n"
     ]
    },
    {
     "data": {
      "text/html": [
       "<table class=\"dataframe\">\n",
       "<caption>A data.frame: 1 × 2</caption>\n",
       "<thead>\n",
       "\t<tr><th scope=col>avrg_active</th><th scope=col>avrg_sedentary</th></tr>\n",
       "\t<tr><th scope=col>&lt;dbl&gt;</th><th scope=col>&lt;dbl&gt;</th></tr>\n",
       "</thead>\n",
       "<tbody>\n",
       "\t<tr><td>1218.753</td><td>991.2106</td></tr>\n",
       "</tbody>\n",
       "</table>\n"
      ],
      "text/latex": [
       "A data.frame: 1 × 2\n",
       "\\begin{tabular}{ll}\n",
       " avrg\\_active & avrg\\_sedentary\\\\\n",
       " <dbl> & <dbl>\\\\\n",
       "\\hline\n",
       "\t 1218.753 & 991.2106\\\\\n",
       "\\end{tabular}\n"
      ],
      "text/markdown": [
       "\n",
       "A data.frame: 1 × 2\n",
       "\n",
       "| avrg_active &lt;dbl&gt; | avrg_sedentary &lt;dbl&gt; |\n",
       "|---|---|\n",
       "| 1218.753 | 991.2106 |\n",
       "\n"
      ],
      "text/plain": [
       "  avrg_active avrg_sedentary\n",
       "1 1218.753    991.2106      "
      ]
     },
     "metadata": {},
     "output_type": "display_data"
    },
    {
     "data": {
      "text/html": [
       "0.915243142952809"
      ],
      "text/latex": [
       "0.915243142952809"
      ],
      "text/markdown": [
       "0.915243142952809"
      ],
      "text/plain": [
       "[1] 0.9152431"
      ]
     },
     "metadata": {},
     "output_type": "display_data"
    },
    {
     "data": {
      "text/html": [
       "<table class=\"dataframe\">\n",
       "<caption>A tibble: 24 × 2</caption>\n",
       "<thead>\n",
       "\t<tr><th scope=col>id</th><th scope=col>avrg_sleep_min</th></tr>\n",
       "\t<tr><th scope=col>&lt;dbl&gt;</th><th scope=col>&lt;dbl&gt;</th></tr>\n",
       "</thead>\n",
       "<tbody>\n",
       "\t<tr><td>1844505072</td><td>652.0000</td></tr>\n",
       "\t<tr><td>2026352035</td><td>506.1786</td></tr>\n",
       "\t<tr><td>6117666160</td><td>478.7778</td></tr>\n",
       "\t<tr><td>4319703577</td><td>476.6538</td></tr>\n",
       "\t<tr><td>5553957443</td><td>463.4839</td></tr>\n",
       "\t<tr><td>7086361926</td><td>453.1250</td></tr>\n",
       "\t<tr><td>6962181067</td><td>448.0000</td></tr>\n",
       "\t<tr><td>2347167796</td><td>446.8000</td></tr>\n",
       "\t<tr><td>8378563200</td><td>445.1290</td></tr>\n",
       "\t<tr><td>8792009665</td><td>435.6667</td></tr>\n",
       "\t<tr><td>5577150313</td><td>432.0000</td></tr>\n",
       "\t<tr><td>4702921684</td><td>417.4815</td></tr>\n",
       "\t<tr><td>1927972279</td><td>417.0000</td></tr>\n",
       "\t<tr><td>4388161847</td><td>400.1739</td></tr>\n",
       "\t<tr><td>4445114986</td><td>385.1786</td></tr>\n",
       "\t<tr><td>1503960366</td><td>360.2800</td></tr>\n",
       "\t<tr><td>6775888955</td><td>349.6667</td></tr>\n",
       "\t<tr><td>4020332650</td><td>349.3750</td></tr>\n",
       "\t<tr><td>8053475328</td><td>297.0000</td></tr>\n",
       "\t<tr><td>1644430081</td><td>294.0000</td></tr>\n",
       "\t<tr><td>3977333714</td><td>293.6429</td></tr>\n",
       "\t<tr><td>4558609924</td><td>127.6000</td></tr>\n",
       "\t<tr><td>7007744171</td><td> 68.5000</td></tr>\n",
       "\t<tr><td>2320127002</td><td> 61.0000</td></tr>\n",
       "</tbody>\n",
       "</table>\n"
      ],
      "text/latex": [
       "A tibble: 24 × 2\n",
       "\\begin{tabular}{ll}\n",
       " id & avrg\\_sleep\\_min\\\\\n",
       " <dbl> & <dbl>\\\\\n",
       "\\hline\n",
       "\t 1844505072 & 652.0000\\\\\n",
       "\t 2026352035 & 506.1786\\\\\n",
       "\t 6117666160 & 478.7778\\\\\n",
       "\t 4319703577 & 476.6538\\\\\n",
       "\t 5553957443 & 463.4839\\\\\n",
       "\t 7086361926 & 453.1250\\\\\n",
       "\t 6962181067 & 448.0000\\\\\n",
       "\t 2347167796 & 446.8000\\\\\n",
       "\t 8378563200 & 445.1290\\\\\n",
       "\t 8792009665 & 435.6667\\\\\n",
       "\t 5577150313 & 432.0000\\\\\n",
       "\t 4702921684 & 417.4815\\\\\n",
       "\t 1927972279 & 417.0000\\\\\n",
       "\t 4388161847 & 400.1739\\\\\n",
       "\t 4445114986 & 385.1786\\\\\n",
       "\t 1503960366 & 360.2800\\\\\n",
       "\t 6775888955 & 349.6667\\\\\n",
       "\t 4020332650 & 349.3750\\\\\n",
       "\t 8053475328 & 297.0000\\\\\n",
       "\t 1644430081 & 294.0000\\\\\n",
       "\t 3977333714 & 293.6429\\\\\n",
       "\t 4558609924 & 127.6000\\\\\n",
       "\t 7007744171 &  68.5000\\\\\n",
       "\t 2320127002 &  61.0000\\\\\n",
       "\\end{tabular}\n"
      ],
      "text/markdown": [
       "\n",
       "A tibble: 24 × 2\n",
       "\n",
       "| id &lt;dbl&gt; | avrg_sleep_min &lt;dbl&gt; |\n",
       "|---|---|\n",
       "| 1844505072 | 652.0000 |\n",
       "| 2026352035 | 506.1786 |\n",
       "| 6117666160 | 478.7778 |\n",
       "| 4319703577 | 476.6538 |\n",
       "| 5553957443 | 463.4839 |\n",
       "| 7086361926 | 453.1250 |\n",
       "| 6962181067 | 448.0000 |\n",
       "| 2347167796 | 446.8000 |\n",
       "| 8378563200 | 445.1290 |\n",
       "| 8792009665 | 435.6667 |\n",
       "| 5577150313 | 432.0000 |\n",
       "| 4702921684 | 417.4815 |\n",
       "| 1927972279 | 417.0000 |\n",
       "| 4388161847 | 400.1739 |\n",
       "| 4445114986 | 385.1786 |\n",
       "| 1503960366 | 360.2800 |\n",
       "| 6775888955 | 349.6667 |\n",
       "| 4020332650 | 349.3750 |\n",
       "| 8053475328 | 297.0000 |\n",
       "| 1644430081 | 294.0000 |\n",
       "| 3977333714 | 293.6429 |\n",
       "| 4558609924 | 127.6000 |\n",
       "| 7007744171 |  68.5000 |\n",
       "| 2320127002 |  61.0000 |\n",
       "\n"
      ],
      "text/plain": [
       "   id         avrg_sleep_min\n",
       "1  1844505072 652.0000      \n",
       "2  2026352035 506.1786      \n",
       "3  6117666160 478.7778      \n",
       "4  4319703577 476.6538      \n",
       "5  5553957443 463.4839      \n",
       "6  7086361926 453.1250      \n",
       "7  6962181067 448.0000      \n",
       "8  2347167796 446.8000      \n",
       "9  8378563200 445.1290      \n",
       "10 8792009665 435.6667      \n",
       "11 5577150313 432.0000      \n",
       "12 4702921684 417.4815      \n",
       "13 1927972279 417.0000      \n",
       "14 4388161847 400.1739      \n",
       "15 4445114986 385.1786      \n",
       "16 1503960366 360.2800      \n",
       "17 6775888955 349.6667      \n",
       "18 4020332650 349.3750      \n",
       "19 8053475328 297.0000      \n",
       "20 1644430081 294.0000      \n",
       "21 3977333714 293.6429      \n",
       "22 4558609924 127.6000      \n",
       "23 7007744171  68.5000      \n",
       "24 2320127002  61.0000      "
      ]
     },
     "metadata": {},
     "output_type": "display_data"
    },
    {
     "name": "stderr",
     "output_type": "stream",
     "text": [
      "\u001b[1m\u001b[22m`geom_smooth()` using formula = 'y ~ x'\n"
     ]
    },
    {
     "data": {
      "image/png": "[encoded data removed]"
     },
     "metadata": {
      "image/png": {
       "height": 420,
       "width": 420
      }
     },
     "output_type": "display_data"
    },
    {
     "name": "stdout",
     "output_type": "stream",
     "text": [
      "\u001b[90m# A tibble: 24 × 2\u001b[39m\n",
      "           id sleep_sd\n",
      "        \u001b[3m\u001b[90m<dbl>\u001b[39m\u001b[23m    \u001b[3m\u001b[90m<dbl>\u001b[39m\u001b[23m\n",
      "\u001b[90m 1\u001b[39m \u001b[4m1\u001b[24m644\u001b[4m4\u001b[24m\u001b[4m3\u001b[24m\u001b[4m0\u001b[24m081    335. \n",
      "\u001b[90m 2\u001b[39m \u001b[4m1\u001b[24m927\u001b[4m9\u001b[24m\u001b[4m7\u001b[24m\u001b[4m2\u001b[24m279    219. \n",
      "\u001b[90m 3\u001b[39m \u001b[4m8\u001b[24m053\u001b[4m4\u001b[24m\u001b[4m7\u001b[24m\u001b[4m5\u001b[24m328    208. \n",
      "\u001b[90m 4\u001b[39m \u001b[4m4\u001b[24m388\u001b[4m1\u001b[24m\u001b[4m6\u001b[24m\u001b[4m1\u001b[24m847    146. \n",
      "\u001b[90m 5\u001b[39m \u001b[4m4\u001b[24m020\u001b[4m3\u001b[24m\u001b[4m3\u001b[24m\u001b[4m2\u001b[24m650    141. \n",
      "\u001b[90m 6\u001b[39m \u001b[4m4\u001b[24m319\u001b[4m7\u001b[24m\u001b[4m0\u001b[24m\u001b[4m3\u001b[24m577    114. \n",
      "\u001b[90m 7\u001b[39m \u001b[4m5\u001b[24m553\u001b[4m9\u001b[24m\u001b[4m5\u001b[24m\u001b[4m7\u001b[24m443    108. \n",
      "\u001b[90m 8\u001b[39m \u001b[4m6\u001b[24m775\u001b[4m8\u001b[24m\u001b[4m8\u001b[24m\u001b[4m8\u001b[24m955    101. \n",
      "\u001b[90m 9\u001b[39m \u001b[4m1\u001b[24m503\u001b[4m9\u001b[24m\u001b[4m6\u001b[24m\u001b[4m0\u001b[24m366    100. \n",
      "\u001b[90m10\u001b[39m \u001b[4m5\u001b[24m577\u001b[4m1\u001b[24m\u001b[4m5\u001b[24m\u001b[4m0\u001b[24m313     98.7\n",
      "\u001b[90m11\u001b[39m \u001b[4m4\u001b[24m445\u001b[4m1\u001b[24m\u001b[4m1\u001b[24m\u001b[4m4\u001b[24m986     95.5\n",
      "\u001b[90m12\u001b[39m \u001b[4m6\u001b[24m117\u001b[4m6\u001b[24m\u001b[4m6\u001b[24m\u001b[4m6\u001b[24m160     84.1\n",
      "\u001b[90m13\u001b[39m \u001b[4m8\u001b[24m378\u001b[4m5\u001b[24m\u001b[4m6\u001b[24m\u001b[4m3\u001b[24m200     76.8\n",
      "\u001b[90m14\u001b[39m \u001b[4m7\u001b[24m086\u001b[4m3\u001b[24m\u001b[4m6\u001b[24m\u001b[4m1\u001b[24m926     69.3\n",
      "\u001b[90m15\u001b[39m \u001b[4m4\u001b[24m702\u001b[4m9\u001b[24m\u001b[4m2\u001b[24m\u001b[4m1\u001b[24m684     66.5\n",
      "\u001b[90m16\u001b[39m \u001b[4m1\u001b[24m844\u001b[4m5\u001b[24m\u001b[4m0\u001b[24m\u001b[4m5\u001b[24m072     66.4\n",
      "\u001b[90m17\u001b[39m \u001b[4m8\u001b[24m792\u001b[4m0\u001b[24m\u001b[4m0\u001b[24m\u001b[4m9\u001b[24m665     65.5\n",
      "\u001b[90m18\u001b[39m \u001b[4m3\u001b[24m977\u001b[4m3\u001b[24m\u001b[4m3\u001b[24m\u001b[4m3\u001b[24m714     63.9\n",
      "\u001b[90m19\u001b[39m \u001b[4m6\u001b[24m962\u001b[4m1\u001b[24m\u001b[4m8\u001b[24m\u001b[4m1\u001b[24m067     62.5\n",
      "\u001b[90m20\u001b[39m \u001b[4m2\u001b[24m347\u001b[4m1\u001b[24m\u001b[4m6\u001b[24m\u001b[4m7\u001b[24m796     43.0\n",
      "\u001b[90m21\u001b[39m \u001b[4m2\u001b[24m026\u001b[4m3\u001b[24m\u001b[4m5\u001b[24m\u001b[4m2\u001b[24m035     42.3\n",
      "\u001b[90m22\u001b[39m \u001b[4m4\u001b[24m558\u001b[4m6\u001b[24m\u001b[4m0\u001b[24m\u001b[4m9\u001b[24m924     25.8\n",
      "\u001b[90m23\u001b[39m \u001b[4m7\u001b[24m007\u001b[4m7\u001b[24m\u001b[4m4\u001b[24m\u001b[4m4\u001b[24m171     14.8\n",
      "\u001b[90m24\u001b[39m \u001b[4m2\u001b[24m320\u001b[4m1\u001b[24m\u001b[4m2\u001b[24m\u001b[4m7\u001b[24m002     \u001b[31mNA\u001b[39m  \n"
     ]
    },
    {
     "data": {
      "image/png": "[encoded data removed]"
     },
     "metadata": {
      "image/png": {
       "height": 420,
       "width": 420
      }
     },
     "output_type": "display_data"
    },
    {
     "data": {
      "text/html": [
       "<table class=\"dataframe\">\n",
       "<caption>A tibble: 24 × 2</caption>\n",
       "<thead>\n",
       "\t<tr><th scope=col>id</th><th scope=col>avrg_hour_sleep</th></tr>\n",
       "\t<tr><th scope=col>&lt;dbl&gt;</th><th scope=col>&lt;dbl&gt;</th></tr>\n",
       "</thead>\n",
       "<tbody>\n",
       "\t<tr><td>1503960366</td><td>360.2800</td></tr>\n",
       "\t<tr><td>1644430081</td><td>294.0000</td></tr>\n",
       "\t<tr><td>1844505072</td><td>652.0000</td></tr>\n",
       "\t<tr><td>1927972279</td><td>417.0000</td></tr>\n",
       "\t<tr><td>2026352035</td><td>506.1786</td></tr>\n",
       "\t<tr><td>2320127002</td><td> 61.0000</td></tr>\n",
       "\t<tr><td>2347167796</td><td>446.8000</td></tr>\n",
       "\t<tr><td>3977333714</td><td>293.6429</td></tr>\n",
       "\t<tr><td>4020332650</td><td>349.3750</td></tr>\n",
       "\t<tr><td>4319703577</td><td>476.6538</td></tr>\n",
       "\t<tr><td>4388161847</td><td>400.1739</td></tr>\n",
       "\t<tr><td>4445114986</td><td>385.1786</td></tr>\n",
       "\t<tr><td>4558609924</td><td>127.6000</td></tr>\n",
       "\t<tr><td>4702921684</td><td>417.4815</td></tr>\n",
       "\t<tr><td>5553957443</td><td>463.4839</td></tr>\n",
       "\t<tr><td>5577150313</td><td>432.0000</td></tr>\n",
       "\t<tr><td>6117666160</td><td>478.7778</td></tr>\n",
       "\t<tr><td>6775888955</td><td>349.6667</td></tr>\n",
       "\t<tr><td>6962181067</td><td>448.0000</td></tr>\n",
       "\t<tr><td>7007744171</td><td> 68.5000</td></tr>\n",
       "\t<tr><td>7086361926</td><td>453.1250</td></tr>\n",
       "\t<tr><td>8053475328</td><td>297.0000</td></tr>\n",
       "\t<tr><td>8378563200</td><td>445.1290</td></tr>\n",
       "\t<tr><td>8792009665</td><td>435.6667</td></tr>\n",
       "</tbody>\n",
       "</table>\n"
      ],
      "text/latex": [
       "A tibble: 24 × 2\n",
       "\\begin{tabular}{ll}\n",
       " id & avrg\\_hour\\_sleep\\\\\n",
       " <dbl> & <dbl>\\\\\n",
       "\\hline\n",
       "\t 1503960366 & 360.2800\\\\\n",
       "\t 1644430081 & 294.0000\\\\\n",
       "\t 1844505072 & 652.0000\\\\\n",
       "\t 1927972279 & 417.0000\\\\\n",
       "\t 2026352035 & 506.1786\\\\\n",
       "\t 2320127002 &  61.0000\\\\\n",
       "\t 2347167796 & 446.8000\\\\\n",
       "\t 3977333714 & 293.6429\\\\\n",
       "\t 4020332650 & 349.3750\\\\\n",
       "\t 4319703577 & 476.6538\\\\\n",
       "\t 4388161847 & 400.1739\\\\\n",
       "\t 4445114986 & 385.1786\\\\\n",
       "\t 4558609924 & 127.6000\\\\\n",
       "\t 4702921684 & 417.4815\\\\\n",
       "\t 5553957443 & 463.4839\\\\\n",
       "\t 5577150313 & 432.0000\\\\\n",
       "\t 6117666160 & 478.7778\\\\\n",
       "\t 6775888955 & 349.6667\\\\\n",
       "\t 6962181067 & 448.0000\\\\\n",
       "\t 7007744171 &  68.5000\\\\\n",
       "\t 7086361926 & 453.1250\\\\\n",
       "\t 8053475328 & 297.0000\\\\\n",
       "\t 8378563200 & 445.1290\\\\\n",
       "\t 8792009665 & 435.6667\\\\\n",
       "\\end{tabular}\n"
      ],
      "text/markdown": [
       "\n",
       "A tibble: 24 × 2\n",
       "\n",
       "| id &lt;dbl&gt; | avrg_hour_sleep &lt;dbl&gt; |\n",
       "|---|---|\n",
       "| 1503960366 | 360.2800 |\n",
       "| 1644430081 | 294.0000 |\n",
       "| 1844505072 | 652.0000 |\n",
       "| 1927972279 | 417.0000 |\n",
       "| 2026352035 | 506.1786 |\n",
       "| 2320127002 |  61.0000 |\n",
       "| 2347167796 | 446.8000 |\n",
       "| 3977333714 | 293.6429 |\n",
       "| 4020332650 | 349.3750 |\n",
       "| 4319703577 | 476.6538 |\n",
       "| 4388161847 | 400.1739 |\n",
       "| 4445114986 | 385.1786 |\n",
       "| 4558609924 | 127.6000 |\n",
       "| 4702921684 | 417.4815 |\n",
       "| 5553957443 | 463.4839 |\n",
       "| 5577150313 | 432.0000 |\n",
       "| 6117666160 | 478.7778 |\n",
       "| 6775888955 | 349.6667 |\n",
       "| 6962181067 | 448.0000 |\n",
       "| 7007744171 |  68.5000 |\n",
       "| 7086361926 | 453.1250 |\n",
       "| 8053475328 | 297.0000 |\n",
       "| 8378563200 | 445.1290 |\n",
       "| 8792009665 | 435.6667 |\n",
       "\n"
      ],
      "text/plain": [
       "   id         avrg_hour_sleep\n",
       "1  1503960366 360.2800       \n",
       "2  1644430081 294.0000       \n",
       "3  1844505072 652.0000       \n",
       "4  1927972279 417.0000       \n",
       "5  2026352035 506.1786       \n",
       "6  2320127002  61.0000       \n",
       "7  2347167796 446.8000       \n",
       "8  3977333714 293.6429       \n",
       "9  4020332650 349.3750       \n",
       "10 4319703577 476.6538       \n",
       "11 4388161847 400.1739       \n",
       "12 4445114986 385.1786       \n",
       "13 4558609924 127.6000       \n",
       "14 4702921684 417.4815       \n",
       "15 5553957443 463.4839       \n",
       "16 5577150313 432.0000       \n",
       "17 6117666160 478.7778       \n",
       "18 6775888955 349.6667       \n",
       "19 6962181067 448.0000       \n",
       "20 7007744171  68.5000       \n",
       "21 7086361926 453.1250       \n",
       "22 8053475328 297.0000       \n",
       "23 8378563200 445.1290       \n",
       "24 8792009665 435.6667       "
      ]
     },
     "metadata": {},
     "output_type": "display_data"
    },
    {
     "data": {
      "text/html": [
       "<style>\n",
       ".list-inline {list-style: none; margin:0; padding: 0}\n",
       ".list-inline>li {display: inline-block}\n",
       ".list-inline>li:not(:last-child)::after {content: \"\\00b7\"; padding: 0 .5ex}\n",
       "</style>\n",
       "<ol class=list-inline><li>'id'</li><li>'sleep_day'</li><li>'total_sleep_records'</li><li>'total_minutes_asleep'</li><li>'total_time_in_bed'</li><li>'day'</li></ol>\n"
      ],
      "text/latex": [
       "\\begin{enumerate*}\n",
       "\\item 'id'\n",
       "\\item 'sleep\\_day'\n",
       "\\item 'total\\_sleep\\_records'\n",
       "\\item 'total\\_minutes\\_asleep'\n",
       "\\item 'total\\_time\\_in\\_bed'\n",
       "\\item 'day'\n",
       "\\end{enumerate*}\n"
      ],
      "text/markdown": [
       "1. 'id'\n",
       "2. 'sleep_day'\n",
       "3. 'total_sleep_records'\n",
       "4. 'total_minutes_asleep'\n",
       "5. 'total_time_in_bed'\n",
       "6. 'day'\n",
       "\n",
       "\n"
      ],
      "text/plain": [
       "[1] \"id\"                   \"sleep_day\"            \"total_sleep_records\" \n",
       "[4] \"total_minutes_asleep\" \"total_time_in_bed\"    \"day\"                 "
      ]
     },
     "metadata": {},
     "output_type": "display_data"
    },
    {
     "data": {
      "text/html": [
       "<style>\n",
       ".list-inline {list-style: none; margin:0; padding: 0}\n",
       ".list-inline>li {display: inline-block}\n",
       ".list-inline>li:not(:last-child)::after {content: \"\\00b7\"; padding: 0 .5ex}\n",
       "</style>\n",
       "<ol class=list-inline><li>'id'</li><li>'activity_date'</li><li>'total_steps'</li><li>'total_distance'</li><li>'tracker_distance'</li><li>'logged_activities_distance'</li><li>'very_active_distance'</li><li>'moderately_active_distance'</li><li>'light_active_distance'</li><li>'sedentary_active_distance'</li><li>'very_active_minutes'</li><li>'fairly_active_minutes'</li><li>'lightly_active_minutes'</li><li>'sedentary_minutes'</li><li>'calories'</li><li>'day'</li><li>'total_activity'</li></ol>\n"
      ],
      "text/latex": [
       "\\begin{enumerate*}\n",
       "\\item 'id'\n",
       "\\item 'activity\\_date'\n",
       "\\item 'total\\_steps'\n",
       "\\item 'total\\_distance'\n",
       "\\item 'tracker\\_distance'\n",
       "\\item 'logged\\_activities\\_distance'\n",
       "\\item 'very\\_active\\_distance'\n",
       "\\item 'moderately\\_active\\_distance'\n",
       "\\item 'light\\_active\\_distance'\n",
       "\\item 'sedentary\\_active\\_distance'\n",
       "\\item 'very\\_active\\_minutes'\n",
       "\\item 'fairly\\_active\\_minutes'\n",
       "\\item 'lightly\\_active\\_minutes'\n",
       "\\item 'sedentary\\_minutes'\n",
       "\\item 'calories'\n",
       "\\item 'day'\n",
       "\\item 'total\\_activity'\n",
       "\\end{enumerate*}\n"
      ],
      "text/markdown": [
       "1. 'id'\n",
       "2. 'activity_date'\n",
       "3. 'total_steps'\n",
       "4. 'total_distance'\n",
       "5. 'tracker_distance'\n",
       "6. 'logged_activities_distance'\n",
       "7. 'very_active_distance'\n",
       "8. 'moderately_active_distance'\n",
       "9. 'light_active_distance'\n",
       "10. 'sedentary_active_distance'\n",
       "11. 'very_active_minutes'\n",
       "12. 'fairly_active_minutes'\n",
       "13. 'lightly_active_minutes'\n",
       "14. 'sedentary_minutes'\n",
       "15. 'calories'\n",
       "16. 'day'\n",
       "17. 'total_activity'\n",
       "\n",
       "\n"
      ],
      "text/plain": [
       " [1] \"id\"                         \"activity_date\"             \n",
       " [3] \"total_steps\"                \"total_distance\"            \n",
       " [5] \"tracker_distance\"           \"logged_activities_distance\"\n",
       " [7] \"very_active_distance\"       \"moderately_active_distance\"\n",
       " [9] \"light_active_distance\"      \"sedentary_active_distance\" \n",
       "[11] \"very_active_minutes\"        \"fairly_active_minutes\"     \n",
       "[13] \"lightly_active_minutes\"     \"sedentary_minutes\"         \n",
       "[15] \"calories\"                   \"day\"                       \n",
       "[17] \"total_activity\"            "
      ]
     },
     "metadata": {},
     "output_type": "display_data"
    },
    {
     "data": {
      "text/html": [
       "-0.190343916667632"
      ],
      "text/latex": [
       "-0.190343916667632"
      ],
      "text/markdown": [
       "-0.190343916667632"
      ],
      "text/plain": [
       "[1] -0.1903439"
      ]
     },
     "metadata": {},
     "output_type": "display_data"
    },
    {
     "name": "stdout",
     "output_type": "stream",
     "text": [
      "\u001b[90m# A tibble: 33 × 2\u001b[39m\n",
      "           id days_tracked\n",
      "        \u001b[3m\u001b[90m<dbl>\u001b[39m\u001b[23m        \u001b[3m\u001b[90m<int>\u001b[39m\u001b[23m\n",
      "\u001b[90m 1\u001b[39m \u001b[4m1\u001b[24m503\u001b[4m9\u001b[24m\u001b[4m6\u001b[24m\u001b[4m0\u001b[24m366           31\n",
      "\u001b[90m 2\u001b[39m \u001b[4m1\u001b[24m624\u001b[4m5\u001b[24m\u001b[4m8\u001b[24m\u001b[4m0\u001b[24m081           31\n",
      "\u001b[90m 3\u001b[39m \u001b[4m1\u001b[24m844\u001b[4m5\u001b[24m\u001b[4m0\u001b[24m\u001b[4m5\u001b[24m072           31\n",
      "\u001b[90m 4\u001b[39m \u001b[4m1\u001b[24m927\u001b[4m9\u001b[24m\u001b[4m7\u001b[24m\u001b[4m2\u001b[24m279           31\n",
      "\u001b[90m 5\u001b[39m \u001b[4m2\u001b[24m022\u001b[4m4\u001b[24m\u001b[4m8\u001b[24m\u001b[4m4\u001b[24m408           31\n",
      "\u001b[90m 6\u001b[39m \u001b[4m2\u001b[24m026\u001b[4m3\u001b[24m\u001b[4m5\u001b[24m\u001b[4m2\u001b[24m035           31\n",
      "\u001b[90m 7\u001b[39m \u001b[4m2\u001b[24m320\u001b[4m1\u001b[24m\u001b[4m2\u001b[24m\u001b[4m7\u001b[24m002           31\n",
      "\u001b[90m 8\u001b[39m \u001b[4m2\u001b[24m873\u001b[4m2\u001b[24m\u001b[4m1\u001b[24m\u001b[4m2\u001b[24m765           31\n",
      "\u001b[90m 9\u001b[39m \u001b[4m4\u001b[24m020\u001b[4m3\u001b[24m\u001b[4m3\u001b[24m\u001b[4m2\u001b[24m650           31\n",
      "\u001b[90m10\u001b[39m \u001b[4m4\u001b[24m319\u001b[4m7\u001b[24m\u001b[4m0\u001b[24m\u001b[4m3\u001b[24m577           31\n",
      "\u001b[90m11\u001b[39m \u001b[4m4\u001b[24m388\u001b[4m1\u001b[24m\u001b[4m6\u001b[24m\u001b[4m1\u001b[24m847           31\n",
      "\u001b[90m12\u001b[39m \u001b[4m4\u001b[24m445\u001b[4m1\u001b[24m\u001b[4m1\u001b[24m\u001b[4m4\u001b[24m986           31\n",
      "\u001b[90m13\u001b[39m \u001b[4m4\u001b[24m558\u001b[4m6\u001b[24m\u001b[4m0\u001b[24m\u001b[4m9\u001b[24m924           31\n",
      "\u001b[90m14\u001b[39m \u001b[4m4\u001b[24m702\u001b[4m9\u001b[24m\u001b[4m2\u001b[24m\u001b[4m1\u001b[24m684           31\n",
      "\u001b[90m15\u001b[39m \u001b[4m5\u001b[24m553\u001b[4m9\u001b[24m\u001b[4m5\u001b[24m\u001b[4m7\u001b[24m443           31\n",
      "\u001b[90m16\u001b[39m \u001b[4m6\u001b[24m962\u001b[4m1\u001b[24m\u001b[4m8\u001b[24m\u001b[4m1\u001b[24m067           31\n",
      "\u001b[90m17\u001b[39m \u001b[4m7\u001b[24m086\u001b[4m3\u001b[24m\u001b[4m6\u001b[24m\u001b[4m1\u001b[24m926           31\n",
      "\u001b[90m18\u001b[39m \u001b[4m8\u001b[24m053\u001b[4m4\u001b[24m\u001b[4m7\u001b[24m\u001b[4m5\u001b[24m328           31\n",
      "\u001b[90m19\u001b[39m \u001b[4m8\u001b[24m378\u001b[4m5\u001b[24m\u001b[4m6\u001b[24m\u001b[4m3\u001b[24m200           31\n",
      "\u001b[90m20\u001b[39m \u001b[4m8\u001b[24m583\u001b[4m8\u001b[24m\u001b[4m1\u001b[24m\u001b[4m5\u001b[24m059           31\n",
      "\u001b[90m21\u001b[39m \u001b[4m8\u001b[24m877\u001b[4m6\u001b[24m\u001b[4m8\u001b[24m\u001b[4m9\u001b[24m391           31\n",
      "\u001b[90m22\u001b[39m \u001b[4m1\u001b[24m644\u001b[4m4\u001b[24m\u001b[4m3\u001b[24m\u001b[4m0\u001b[24m081           30\n",
      "\u001b[90m23\u001b[39m \u001b[4m3\u001b[24m977\u001b[4m3\u001b[24m\u001b[4m3\u001b[24m\u001b[4m3\u001b[24m714           30\n",
      "\u001b[90m24\u001b[39m \u001b[4m5\u001b[24m577\u001b[4m1\u001b[24m\u001b[4m5\u001b[24m\u001b[4m0\u001b[24m313           30\n",
      "\u001b[90m25\u001b[39m \u001b[4m6\u001b[24m290\u001b[4m8\u001b[24m\u001b[4m5\u001b[24m\u001b[4m5\u001b[24m005           29\n",
      "\u001b[90m26\u001b[39m \u001b[4m8\u001b[24m792\u001b[4m0\u001b[24m\u001b[4m0\u001b[24m\u001b[4m9\u001b[24m665           29\n",
      "\u001b[90m27\u001b[39m \u001b[4m6\u001b[24m117\u001b[4m6\u001b[24m\u001b[4m6\u001b[24m\u001b[4m6\u001b[24m160           28\n",
      "\u001b[90m28\u001b[39m \u001b[4m6\u001b[24m775\u001b[4m8\u001b[24m\u001b[4m8\u001b[24m\u001b[4m8\u001b[24m955           26\n",
      "\u001b[90m29\u001b[39m \u001b[4m7\u001b[24m007\u001b[4m7\u001b[24m\u001b[4m4\u001b[24m\u001b[4m4\u001b[24m171           26\n",
      "\u001b[90m30\u001b[39m \u001b[4m3\u001b[24m372\u001b[4m8\u001b[24m\u001b[4m6\u001b[24m\u001b[4m8\u001b[24m164           20\n",
      "\u001b[90m31\u001b[39m \u001b[4m8\u001b[24m253\u001b[4m2\u001b[24m\u001b[4m4\u001b[24m\u001b[4m2\u001b[24m879           19\n",
      "\u001b[90m32\u001b[39m \u001b[4m2\u001b[24m347\u001b[4m1\u001b[24m\u001b[4m6\u001b[24m\u001b[4m7\u001b[24m796           18\n",
      "\u001b[90m33\u001b[39m \u001b[4m4\u001b[24m057\u001b[4m1\u001b[24m\u001b[4m9\u001b[24m\u001b[4m2\u001b[24m912            4\n"
     ]
    },
    {
     "name": "stdout",
     "output_type": "stream",
     "text": [
      "\u001b[90m# A tibble: 24 × 2\u001b[39m\n",
      "           id days_tracked\n",
      "        \u001b[3m\u001b[90m<dbl>\u001b[39m\u001b[23m        \u001b[3m\u001b[90m<int>\u001b[39m\u001b[23m\n",
      "\u001b[90m 1\u001b[39m \u001b[4m5\u001b[24m553\u001b[4m9\u001b[24m\u001b[4m5\u001b[24m\u001b[4m7\u001b[24m443           31\n",
      "\u001b[90m 2\u001b[39m \u001b[4m6\u001b[24m962\u001b[4m1\u001b[24m\u001b[4m8\u001b[24m\u001b[4m1\u001b[24m067           31\n",
      "\u001b[90m 3\u001b[39m \u001b[4m8\u001b[24m378\u001b[4m5\u001b[24m\u001b[4m6\u001b[24m\u001b[4m3\u001b[24m200           31\n",
      "\u001b[90m 4\u001b[39m \u001b[4m2\u001b[24m026\u001b[4m3\u001b[24m\u001b[4m5\u001b[24m\u001b[4m2\u001b[24m035           28\n",
      "\u001b[90m 5\u001b[39m \u001b[4m3\u001b[24m977\u001b[4m3\u001b[24m\u001b[4m3\u001b[24m\u001b[4m3\u001b[24m714           28\n",
      "\u001b[90m 6\u001b[39m \u001b[4m4\u001b[24m445\u001b[4m1\u001b[24m\u001b[4m1\u001b[24m\u001b[4m4\u001b[24m986           28\n",
      "\u001b[90m 7\u001b[39m \u001b[4m4\u001b[24m702\u001b[4m9\u001b[24m\u001b[4m2\u001b[24m\u001b[4m1\u001b[24m684           27\n",
      "\u001b[90m 8\u001b[39m \u001b[4m4\u001b[24m319\u001b[4m7\u001b[24m\u001b[4m0\u001b[24m\u001b[4m3\u001b[24m577           26\n",
      "\u001b[90m 9\u001b[39m \u001b[4m5\u001b[24m577\u001b[4m1\u001b[24m\u001b[4m5\u001b[24m\u001b[4m0\u001b[24m313           26\n",
      "\u001b[90m10\u001b[39m \u001b[4m1\u001b[24m503\u001b[4m9\u001b[24m\u001b[4m6\u001b[24m\u001b[4m0\u001b[24m366           25\n",
      "\u001b[90m11\u001b[39m \u001b[4m7\u001b[24m086\u001b[4m3\u001b[24m\u001b[4m6\u001b[24m\u001b[4m1\u001b[24m926           24\n",
      "\u001b[90m12\u001b[39m \u001b[4m4\u001b[24m388\u001b[4m1\u001b[24m\u001b[4m6\u001b[24m\u001b[4m1\u001b[24m847           23\n",
      "\u001b[90m13\u001b[39m \u001b[4m6\u001b[24m117\u001b[4m6\u001b[24m\u001b[4m6\u001b[24m\u001b[4m6\u001b[24m160           18\n",
      "\u001b[90m14\u001b[39m \u001b[4m2\u001b[24m347\u001b[4m1\u001b[24m\u001b[4m6\u001b[24m\u001b[4m7\u001b[24m796           15\n",
      "\u001b[90m15\u001b[39m \u001b[4m8\u001b[24m792\u001b[4m0\u001b[24m\u001b[4m0\u001b[24m\u001b[4m9\u001b[24m665           15\n",
      "\u001b[90m16\u001b[39m \u001b[4m4\u001b[24m020\u001b[4m3\u001b[24m\u001b[4m3\u001b[24m\u001b[4m2\u001b[24m650            8\n",
      "\u001b[90m17\u001b[39m \u001b[4m1\u001b[24m927\u001b[4m9\u001b[24m\u001b[4m7\u001b[24m\u001b[4m2\u001b[24m279            5\n",
      "\u001b[90m18\u001b[39m \u001b[4m4\u001b[24m558\u001b[4m6\u001b[24m\u001b[4m0\u001b[24m\u001b[4m9\u001b[24m924            5\n",
      "\u001b[90m19\u001b[39m \u001b[4m1\u001b[24m644\u001b[4m4\u001b[24m\u001b[4m3\u001b[24m\u001b[4m0\u001b[24m081            4\n",
      "\u001b[90m20\u001b[39m \u001b[4m1\u001b[24m844\u001b[4m5\u001b[24m\u001b[4m0\u001b[24m\u001b[4m5\u001b[24m072            3\n",
      "\u001b[90m21\u001b[39m \u001b[4m6\u001b[24m775\u001b[4m8\u001b[24m\u001b[4m8\u001b[24m\u001b[4m8\u001b[24m955            3\n",
      "\u001b[90m22\u001b[39m \u001b[4m8\u001b[24m053\u001b[4m4\u001b[24m\u001b[4m7\u001b[24m\u001b[4m5\u001b[24m328            3\n",
      "\u001b[90m23\u001b[39m \u001b[4m7\u001b[24m007\u001b[4m7\u001b[24m\u001b[4m4\u001b[24m\u001b[4m4\u001b[24m171            2\n",
      "\u001b[90m24\u001b[39m \u001b[4m2\u001b[24m320\u001b[4m1\u001b[24m\u001b[4m2\u001b[24m\u001b[4m7\u001b[24m002            1\n"
     ]
    },
    {
     "name": "stdout",
     "output_type": "stream",
     "text": [
      "\u001b[90m# A tibble: 24 × 4\u001b[39m\n",
      "           id days_tracked.x days_tracked.y total_engagement\n",
      "        \u001b[3m\u001b[90m<dbl>\u001b[39m\u001b[23m          \u001b[3m\u001b[90m<int>\u001b[39m\u001b[23m          \u001b[3m\u001b[90m<int>\u001b[39m\u001b[23m            \u001b[3m\u001b[90m<int>\u001b[39m\u001b[23m\n",
      "\u001b[90m 1\u001b[39m \u001b[4m5\u001b[24m553\u001b[4m9\u001b[24m\u001b[4m5\u001b[24m\u001b[4m7\u001b[24m443             31             31               62\n",
      "\u001b[90m 2\u001b[39m \u001b[4m6\u001b[24m962\u001b[4m1\u001b[24m\u001b[4m8\u001b[24m\u001b[4m1\u001b[24m067             31             31               62\n",
      "\u001b[90m 3\u001b[39m \u001b[4m8\u001b[24m378\u001b[4m5\u001b[24m\u001b[4m6\u001b[24m\u001b[4m3\u001b[24m200             31             31               62\n",
      "\u001b[90m 4\u001b[39m \u001b[4m2\u001b[24m026\u001b[4m3\u001b[24m\u001b[4m5\u001b[24m\u001b[4m2\u001b[24m035             31             28               59\n",
      "\u001b[90m 5\u001b[39m \u001b[4m4\u001b[24m445\u001b[4m1\u001b[24m\u001b[4m1\u001b[24m\u001b[4m4\u001b[24m986             31             28               59\n",
      "\u001b[90m 6\u001b[39m \u001b[4m4\u001b[24m702\u001b[4m9\u001b[24m\u001b[4m2\u001b[24m\u001b[4m1\u001b[24m684             31             27               58\n",
      "\u001b[90m 7\u001b[39m \u001b[4m3\u001b[24m977\u001b[4m3\u001b[24m\u001b[4m3\u001b[24m\u001b[4m3\u001b[24m714             30             28               58\n",
      "\u001b[90m 8\u001b[39m \u001b[4m4\u001b[24m319\u001b[4m7\u001b[24m\u001b[4m0\u001b[24m\u001b[4m3\u001b[24m577             31             26               57\n",
      "\u001b[90m 9\u001b[39m \u001b[4m1\u001b[24m503\u001b[4m9\u001b[24m\u001b[4m6\u001b[24m\u001b[4m0\u001b[24m366             31             25               56\n",
      "\u001b[90m10\u001b[39m \u001b[4m5\u001b[24m577\u001b[4m1\u001b[24m\u001b[4m5\u001b[24m\u001b[4m0\u001b[24m313             30             26               56\n",
      "\u001b[90m11\u001b[39m \u001b[4m7\u001b[24m086\u001b[4m3\u001b[24m\u001b[4m6\u001b[24m\u001b[4m1\u001b[24m926             31             24               55\n",
      "\u001b[90m12\u001b[39m \u001b[4m4\u001b[24m388\u001b[4m1\u001b[24m\u001b[4m6\u001b[24m\u001b[4m1\u001b[24m847             31             23               54\n",
      "\u001b[90m13\u001b[39m \u001b[4m6\u001b[24m117\u001b[4m6\u001b[24m\u001b[4m6\u001b[24m\u001b[4m6\u001b[24m160             28             18               46\n",
      "\u001b[90m14\u001b[39m \u001b[4m8\u001b[24m792\u001b[4m0\u001b[24m\u001b[4m0\u001b[24m\u001b[4m9\u001b[24m665             29             15               44\n",
      "\u001b[90m15\u001b[39m \u001b[4m4\u001b[24m020\u001b[4m3\u001b[24m\u001b[4m3\u001b[24m\u001b[4m2\u001b[24m650             31              8               39\n",
      "\u001b[90m16\u001b[39m \u001b[4m1\u001b[24m927\u001b[4m9\u001b[24m\u001b[4m7\u001b[24m\u001b[4m2\u001b[24m279             31              5               36\n",
      "\u001b[90m17\u001b[39m \u001b[4m4\u001b[24m558\u001b[4m6\u001b[24m\u001b[4m0\u001b[24m\u001b[4m9\u001b[24m924             31              5               36\n",
      "\u001b[90m18\u001b[39m \u001b[4m1\u001b[24m844\u001b[4m5\u001b[24m\u001b[4m0\u001b[24m\u001b[4m5\u001b[24m072             31              3               34\n",
      "\u001b[90m19\u001b[39m \u001b[4m8\u001b[24m053\u001b[4m4\u001b[24m\u001b[4m7\u001b[24m\u001b[4m5\u001b[24m328             31              3               34\n",
      "\u001b[90m20\u001b[39m \u001b[4m1\u001b[24m644\u001b[4m4\u001b[24m\u001b[4m3\u001b[24m\u001b[4m0\u001b[24m081             30              4               34\n",
      "\u001b[90m21\u001b[39m \u001b[4m2\u001b[24m347\u001b[4m1\u001b[24m\u001b[4m6\u001b[24m\u001b[4m7\u001b[24m796             18             15               33\n",
      "\u001b[90m22\u001b[39m \u001b[4m2\u001b[24m320\u001b[4m1\u001b[24m\u001b[4m2\u001b[24m\u001b[4m7\u001b[24m002             31              1               32\n",
      "\u001b[90m23\u001b[39m \u001b[4m6\u001b[24m775\u001b[4m8\u001b[24m\u001b[4m8\u001b[24m\u001b[4m8\u001b[24m955             26              3               29\n",
      "\u001b[90m24\u001b[39m \u001b[4m7\u001b[24m007\u001b[4m7\u001b[24m\u001b[4m4\u001b[24m\u001b[4m4\u001b[24m171             26              2               28\n"
     ]
    },
    {
     "data": {
      "image/png": "[encoded data removed]"
     },
     "metadata": {
      "image/png": {
       "height": 420,
       "width": 420
      }
     },
     "output_type": "display_data"
    },
    {
     "data": {
      "image/png": "[encoded data removed]"
     },
     "metadata": {
      "image/png": {
       "height": 420,
       "width": 420
      }
     },
     "output_type": "display_data"
    }
   ],
   "source": [
    "# Activity Trends:\n",
    "#   Average daily steps per user\n",
    "activity %>% \n",
    "  group_by(id) %>% \n",
    "  summarise(records=n(), averge_daily_steps = mean(total_steps, na.rm = TRUE) ) %>%  #na.rm = TRUE: Removes any missing step values before averaging.\n",
    "  arrange(desc(averge_daily_steps)) %>% \n",
    "  print(n = n_distinct(activity$id))\n",
    "\n",
    "# % of users meeting recommended activity levels (e.g., 10,000 steps/day)\n",
    "active_users <- activity %>%\n",
    "  filter(total_steps >= 10000) %>%\n",
    "  group_by(id) %>%\n",
    "  summarise(records = n(),\n",
    "            averge_daily_steps = mean(total_steps, na.rm = TRUE)) \n",
    "\n",
    "print( count(active_users)/n_distinct(activity$id)*100)\n",
    "\n",
    "# Active vs. sedentary minutes\n",
    "#Total Active Minutes Per Day\n",
    "activity <- activity %>% \n",
    "  mutate(total_activity = very_active_minutes + fairly_active_minutes + lightly_active_minutes + sedentary_minutes)\n",
    "\n",
    "# Compare Active vs. Sedentary Time\n",
    "activity %>% \n",
    "  summarise(\n",
    "    avrg_active = mean (total_activity , na.rm = TRUE), \n",
    "    avrg_sedentary = mean (sedentary_minutes , na.rm = TRUE)\n",
    "  )\n",
    "# Plot Active vs. Sedentary\n",
    "ggplot(activity, aes(x = total_activity, y = sedentary_minutes)) +\n",
    "  geom_point(color = \"black\" , alpha=1) +\n",
    "  labs(title = \"Active vs. Sedentary Minutes\", x = \"Total Active Minutes\", y = \"Sedentary Minutes\")\n",
    "cor(activity$sedentary_minutes, activity$total_activity, use = \"complete.obs\")\n",
    "\n",
    "#Sleep Patterns:\n",
    "sleep %>% \n",
    "  group_by(id) %>% \n",
    "  summarise(avrg_sleep_min = mean(total_minutes_asleep, na.rm= TRUE) ) %>% \n",
    "  arrange(desc(avrg_sleep_min))\n",
    "#Relationship between time in bed and time asleep\n",
    "ggplot(sleep, aes(x = total_minutes_asleep, y = total_time_in_bed)) +\n",
    "  geom_point(color = \"black\", alpha = 1) +\n",
    "  geom_smooth(method = \"lm\", se = FALSE, color = \"darkred\") +\n",
    "  labs(title = \"Time in Bed vs. Time Asleep\" , x = \"Total Time in Bed (minutes)\", y = \"Total Minutes Asleep\")\n",
    "# Sleep consistency per user\n",
    "sleep %>%\n",
    "  group_by(id) %>%\n",
    "  summarise(sleep_sd = sd(total_minutes_asleep, na.rm = TRUE) ) %>%\n",
    "  arrange(desc(sleep_sd)) %>% \n",
    "  print(n = n_distinct(activity$id))\n",
    "\n",
    "\n",
    "ggplot(sleep, aes( x= total_minutes_asleep)) +\n",
    "  geom_histogram(binwidth = 30, fill= \"blue\", color = \"black\" ) + \n",
    "  labs(title = \"Distribution of Sleep Duration\",\n",
    "       x = \"Minutes Asleep\",\n",
    "       y = \"Count\")\n",
    "\n",
    "\n",
    "#   Average sleep duration\n",
    "sleep %>% \n",
    "  group_by(id) %>% \n",
    "  summarise( avrg_hour_sleep =  mean (total_minutes_asleep, na.rm= TRUE) )\n",
    "\n",
    "\n",
    "# Correlation between sleep and activity\n",
    "sleep <- sleep %>% \n",
    "  rename(\"day\" = sleep_day_formated)\n",
    "\n",
    "activity <- activity %>% \n",
    "  rename(\"day\" = activity_date_formated)\n",
    "\n",
    "names(sleep)\n",
    "names(activity)\n",
    "\n",
    "sleep_activity = inner_join(sleep, activity, by = c(\"id\", \"day\"))\n",
    "cor(sleep_activity$total_minutes_asleep, sleep_activity$total_steps, use = \"complete.obs\")\n",
    "\n",
    "\n",
    "#  Device Engagement:\n",
    "# Step 1: How many days each user logged activity\n",
    "\n",
    "activity_engagement <- activity %>% \n",
    "  group_by(id) %>% \n",
    "  summarise(\n",
    "    days_tracked = n_distinct(day)\n",
    "  ) %>% \n",
    "  arrange(desc(days_tracked)) %>% \n",
    "  print(n =  n_distinct(activity$id) )\n",
    "#Step 2: Sleep tracking consistency\n",
    "sleep_track <- sleep %>%\n",
    "  group_by(id) %>%\n",
    "  summarise(days_tracked = n_distinct(day)) %>%  arrange(desc(days_tracked)) %>%\n",
    "  print(n = n_distinct(sleep$id))\n",
    "#summarize \n",
    "engagement_activity = inner_join( activity_engagement, sleep_track, by = \"id\") \n",
    "\n",
    "engagement_activity <- engagement_activity %>% \n",
    "  mutate(total_engagement = days_tracked.x + days_tracked.y ) %>% \n",
    "  arrange(desc(total_engagement)) %>% \n",
    "    print(n = n_distinct(sleep$id))\n",
    "#visualization \n",
    "ggplot(engagement_activity , aes(x = days_tracked.x , y = days_tracked.y)) +\n",
    "  geom_point(alpha = 1, color = \"steelblue\") +\n",
    "  labs(title = \"Device Engagement: Activity vs Sleep Tracking\",\n",
    "       x = \"Activity Days Logged\",\n",
    "       y = \"Sleep Days Logged\")"
   ]
  },
  {
   "cell_type": "markdown",
   "id": "20a59025",
   "metadata": {
    "papermill": {
     "duration": 0.012574,
     "end_time": "2025-06-29T20:25:33.290189",
     "exception": false,
     "start_time": "2025-06-29T20:25:33.277615",
     "status": "completed"
    },
    "tags": []
   },
   "source": [
    "\n",
    " **Bellabeat Case Study Summary**\n",
    " \n",
    "1. Business Task Summary\n",
    "Objective:\n",
    "Analyze smart device usage trends from non-Bellabeat devices (Fitbit dataset) and apply these findings to one Bellabeat product to inform marketing strategy.\n",
    "\n",
    "Focus Product:\n",
    "Based on holistic tracking (activity, sleep, engagement), this aligns best with Leaf or Time — both of which monitor activity, sleep, and stress.\n",
    "\n",
    "2.  Data Sources Used\n",
    "Primary Dataset:\n",
    "Fitbit Fitness Tracker Data (30 participants over 1 month)\n",
    "Files used:\n",
    "\n",
    "dailyActivity_merged.csv\n",
    "\n",
    "sleepDay_merged.csv\n",
    "\n",
    "Fields Analyzed:\n",
    "Steps, active/sedentary minutes, sleep duration, device engagement.\n",
    "\n",
    "3.  Data Cleaning & Preparation\n",
    "\n",
    "skimr, janitor, dplyr, lubridate\n",
    "\n",
    "Standardized date formats (mdy, mdy_hms)\n",
    "\n",
    "Removed missing values and fully empty columns\n",
    "\n",
    "Verified unique user IDs\n",
    "\n",
    "Checked for duplicates and nulls\n",
    "\n",
    "Joined activity and sleep data on id + day\n",
    "\n",
    "4.  Analysis Summary\n",
    "A. Activity Trends\n",
    "Average steps per user: Varied across users\n",
    "\n",
    "% meeting 10,000 steps/day: Low (most users fell below the recommended threshold)\n",
    "\n",
    "Sedentary minutes dominate the daily record for most users\n",
    "\n",
    "Very low active minutes, confirming a largely inactive lifestyle\n",
    "\n",
    " Correlation: Negative trend between total active and sedentary time, but not strong\n",
    " Suggests users aren't simply substituting active time for sedentary time.\n",
    "\n",
    "B. Sleep Patterns\n",
    "Sleep duration was inconsistent across users\n",
    "\n",
    "Strong positive correlation between time in bed and time asleep\n",
    "\n",
    "Histogram showed most users sleep between 350–450 minutes (~6–7.5 hours)\n",
    "\n",
    "Sleep standard deviation per user revealed sleep inconsistency\n",
    "\n",
    "C. Engagement Insights\n",
    "User activity logging ranged from a few days to full month\n",
    "\n",
    "Sleep tracking was less frequent than activity tracking\n",
    "\n",
    "Strong variance in total engagement (days of device use)\n",
    "\n",
    "D. Correlation Between Sleep and Activity\n",
    "Positive correlation between sleep duration and step count\n",
    "Well-rested users tend to be more active.\n",
    "\n",
    "5.  Visualizations Created\n",
    "Scatterplots:\n",
    "\n",
    "Total active vs. sedentary minutes\n",
    "\n",
    "Time in bed vs. time asleep\n",
    "\n",
    "Activity vs. sleep engagement\n",
    "\n",
    "Histogram:\n",
    "\n",
    "Sleep duration distribution\n",
    "\n",
    "Summary tables for:\n",
    "\n",
    "User step counts\n",
    "\n",
    "Sleep consistency\n",
    "\n",
    "Engagement levels\n",
    "\n",
    "6.  Key Trends in Smart Device Usage\n",
    "Trend\tInsight\n",
    "Low physical activity\tMost users fall short of recommended 10,000 steps/day\n",
    "High sedentary time\tUsers spend the majority of their day inactive\n",
    "Irregular sleep patterns\tMany users do not have consistent sleep schedules\n",
    "Inconsistent engagement\tUsers vary widely in how often they track data\n",
    "Positive sleep-activity link\tMore sleep is associated with more physical activity\n",
    "\n",
    "7.  Application to Bellabeat Customers\n",
    "Bellabeat users (especially Leaf and Time users):\n",
    "\n",
    "Likely show similar behavior: sporadic activity, irregular sleep, inconsistent tracking.\n",
    "\n",
    "They benefit from small nudges and micro-challenges to improve both consistency and outcomes.\n",
    "\n",
    "Can be guided to see sleep as a foundation for better wellness outcomes.\n",
    "\n",
    "8.  Marketing Strategy Recommendations\n",
    " 1. Promote Daily Micro-Habits\n",
    "Encourage short daily activities (e.g., 10-minute walks) via app prompts based on sedentary minutes detected.\n",
    "\n",
    " 2. Boost Engagement via Weekly Check-Ins\n",
    "Since tracking is inconsistent, offer weekly summaries & reminders (\"You’ve tracked 3/7 days – great job! Try for 5 next week\").\n",
    "\n",
    " 3. Pair Sleep + Activity Messaging\n",
    "Use sleep as a hook: “Sleep better, move more” → promote bedtime routines + sleep tracking to improve daily energy.\n",
    "\n",
    " 4. Smart Notifications at High-Impact Times\n",
    "Push messages when engagement is more likely — e.g., evenings (5–8 PM), when people have time to reflect.\n",
    "\n",
    " 5. Visual Progress Tracking\n",
    "Gamify and visualize streaks for step goals, hydration, or consistent sleep to make success tangible.\n",
    "\n",
    " 6. Education-Driven Membership Content\n",
    "Create wellness content that explains the relationship between sleep, stress, and movement — leverage this for paid memberships."
   ]
  }
 ],
 "metadata": {
  "kaggle": {
   "accelerator": "none",
   "dataSources": [
    {
     "datasetId": 1041311,
     "sourceId": 7746251,
     "sourceType": "datasetVersion"
    },
    {
     "datasetId": 7767796,
     "sourceId": 12323246,
     "sourceType": "datasetVersion"
    }
   ],
   "dockerImageVersionId": 30749,
   "isGpuEnabled": false,
   "isInternetEnabled": false,
   "language": "r",
   "sourceType": "notebook"
  },
  "kernelspec": {
   "display_name": "R",
   "language": "R",
   "name": "ir"
  },
  "language_info": {
   "codemirror_mode": "r",
   "file_extension": ".r",
   "mimetype": "text/x-r-source",
   "name": "R",
   "pygments_lexer": "r",
   "version": "4.4.0"
  },
  "papermill": {
   "default_parameters": {},
   "duration": 9.988348,
   "end_time": "2025-06-29T20:25:33.424294",
   "environment_variables": {},
   "exception": null,
   "input_path": "__notebook__.ipynb",
   "output_path": "__notebook__.ipynb",
   "parameters": {},
   "start_time": "2025-06-29T20:25:23.435946",
   "version": "2.6.0"
  }
 },
 "nbformat": 4,
 "nbformat_minor": 5
}
